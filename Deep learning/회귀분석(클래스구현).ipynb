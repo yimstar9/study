{
 "cells": [
  {
   "cell_type": "code",
   "execution_count": 2,
   "id": "b8e5d125",
   "metadata": {},
   "outputs": [],
   "source": [
    "from SyncRNG import SyncRNG\n",
    "import pandas as pd\n",
    "from tensorflow import keras\n",
    "import matplotlib.pyplot as plt\n",
    "import tensorflow.compat.v1 as tf\n",
    "import numpy as np\n",
    "pd.set_option('display.max_columns', None) ## 모든 열을 출력한다"
   ]
  },
  {
   "cell_type": "code",
   "execution_count": 6,
   "id": "59052011",
   "metadata": {},
   "outputs": [
    {
     "name": "stdout",
     "output_type": "stream",
     "text": [
      "     제품_친밀도  제품_적절성  제품_만족도\n",
      "165       3       3       3\n",
      "72        4       3       3\n",
      "129       3       4       4\n",
      "116       1       3       2\n",
      "100       5       5       4\n",
      "..      ...     ...     ...\n",
      "220       3       3       2\n",
      "224       4       4       4\n",
      "150       1       1       1\n",
      "118       1       3       3\n",
      "207       5       5       4\n",
      "\n",
      "[185 rows x 3 columns]\n"
     ]
    }
   ],
   "source": [
    "# 데이터 불러오기\n",
    "raw_data = pd.read_csv('E:/GoogleDrive/포트폴리오/A5팀 R과 Python기반 머신러닝과 딥러닝 분석 비교(12월22일)/dataset/product.csv',encoding='cp949')\n",
    "\n",
    "# 데이터 셋  7:3 으로 분할\n",
    "v=list(range(1,len(raw_data)+1))\n",
    "s=SyncRNG(seed=42)\n",
    "ord=s.shuffle(v)\n",
    "idx=ord[:round(len(raw_data)*0.7)]\n",
    "\n",
    "# R에서는 데이터프레임이 1부터 시작하기 때문에\n",
    "# python에서 0행과 R에서 1행이 같은 원리로\n",
    "# 같은 인덱스 번호를 가진다면 -1을 해주어 같은 데이터를 가지고 오게 한다.\n",
    "# 인덱스 수정-R이랑 같은 데이터 가져오려고\n",
    "for i in range(0,len(idx)):\n",
    "    idx[i]=idx[i]-1\n",
    "\n",
    "# 학습데이터, 테스트데이터 생성\n",
    "train=raw_data.loc[idx] # 70%\n",
    "#train=train.sort_index(ascending=True)\n",
    "test=raw_data.drop(idx) # 30%\n",
    "\n",
    "x_train = train.제품_적절성\n",
    "y_train = train.제품_만족도\n",
    "x_test = test.제품_적절성\n",
    "y_test = test.제품_만족도\n",
    "\n",
    "print(train)"
   ]
  },
  {
   "cell_type": "code",
   "execution_count": 7,
   "id": "419dc908",
   "metadata": {},
   "outputs": [],
   "source": [
    "class Neuron:\n",
    "    def __init__(self):\n",
    "        self.w = 1  # 가중치를 초기화합니다\n",
    "        self.b = 1 # 절편을 초기화합니다\n",
    "\n",
    "    def forpass(self, x):\n",
    "        y_hat = x * self.w + self.b  # 직선 방정식을 계산합니다\n",
    "        return y_hat\n",
    "\n",
    "    def backprop(self, x, err):\n",
    "        w_grad = x * err  # 가중치에 대한 그래디언트를 계산합니다\n",
    "        b_grad = 1 * err  # 절편에 대한 그래디언트를 계산합니다\n",
    "        return w_grad, b_grad\n",
    "\n",
    "    def fit(self, x, y, lr, epochs=400):\n",
    "        for i in range(epochs):  # 에포크만큼 반복합니다\n",
    "            for x_i, y_i in zip(x, y):  # 모든 샘플에 대해 반복합니다\n",
    "                n=len(x)\n",
    "                y_hat = self.forpass(x_i)  # 정방향 계산\n",
    "                err = -(2/n)*(y_i - y_hat)  # 오차 계산\n",
    "                w_grad, b_grad = self.backprop(x_i, err)  # 역방향 계산\n",
    "                self.w -= w_grad*lr  # 가중치 업데이트\n",
    "                self.b -= b_grad*lr # 절편 업데이트\n",
    "            if i % 10 == 0:\n",
    "                print('[',i,']',err, self.w, self.b)"
   ]
  },
  {
   "cell_type": "code",
   "execution_count": 8,
   "id": "c0eb5cc3",
   "metadata": {},
   "outputs": [
    {
     "name": "stdout",
     "output_type": "stream",
     "text": [
      "[ 0 ] 0.01823849722375206 0.9401388362314644 0.981624802761568\n",
      "[ 10 ] 0.006015766834276679 0.7280395772033643 0.9146964467768592\n",
      "[ 20 ] 0.004734230750567926 0.7062723325689252 0.9053237815877597\n",
      "[ 30 ] 0.004610991244763533 0.704648373245413 0.9020759661899233\n",
      "[ 40 ] 0.004610225881327184 0.7051480414459401 0.8995070280639188\n",
      "[ 50 ] 0.004622262819513542 0.7058635180417441 0.897039932263209\n",
      "[ 60 ] 0.004635492103056562 0.7065929226795185 0.8946131781883458\n",
      "[ 70 ] 0.004648686653427482 0.7073150001712064 0.8922198560561189\n",
      "[ 80 ] 0.004661718713822103 0.7080276185160064 0.8898588415829182\n",
      "[ 90 ] 0.004674576895724644 0.7087306689026895 0.8875296283481933\n",
      "[ 100 ] 0.004687262103033893 0.7094242551632053 0.8852317805678199\n",
      "[ 110 ] 0.004699776512774621 0.7101085020910951 0.8829648750828549\n",
      "[ 120 ] 0.004712122408745452 0.7107835351669487 0.8807284951479372\n",
      "[ 130 ] 0.004724302058401418 0.7114494784323395 0.8785222297052497\n",
      "[ 140 ] 0.004736317700189734 0.712106454285064 0.876345673240181\n",
      "[ 150 ] 0.004748171542577246 0.7127545834775606 0.8741984256995218\n",
      "[ 160 ] 0.004759865764309249 0.7133939851365445 0.8720800924171618\n",
      "[ 170 ] 0.004771402514794313 0.714024776784631 0.8699902840414727\n",
      "[ 180 ] 0.004782783914497874 0.7146470743619118 0.8679286164637247\n",
      "[ 190 ] 0.004794012055331807 0.7152609922472628 0.8658947107474918\n",
      "[ 200 ] 0.00480508900103894 0.7158666432793638 0.8638881930590128\n",
      "[ 210 ] 0.004816016787572134 0.7164641387774375 0.8619086945984661\n",
      "[ 220 ] 0.004826797423468792 0.7170535885617147 0.8599558515321872\n",
      "[ 230 ] 0.004837432890219863 0.7176351009736149 0.8580293049258059\n",
      "[ 240 ] 0.004847925142633844 0.7182087828956583 0.8561287006782542\n",
      "[ 250 ] 0.004858276109196828 0.7187747397711216 0.8542536894567071\n",
      "[ 260 ] 0.0048684876924257915 0.7193330756234014 0.852403926632348\n",
      "[ 270 ] 0.0048785617692195336 0.719883893075152 0.85057907221705\n",
      "[ 280 ] 0.00488850019120261 0.7204272933671316 0.8487787908008703\n",
      "[ 290 ] 0.004898304785066168 0.7209633763768194 0.8470027514904068\n",
      "[ 300 ] 0.004907977352903907 0.7214922406367759 0.8452506278479766\n",
      "[ 310 ] 0.004917519672542612 0.7220139833527409 0.8435220978316258\n",
      "[ 320 ] 0.004926933497869641 0.7225287004215144 0.8418168437359239\n",
      "[ 330 ] 0.004936220559154813 0.7230364864485722 0.840134552133579\n",
      "[ 340 ] 0.004945382563368672 0.7235374347654608 0.8384749138178218\n",
      "[ 350 ] 0.0049544211944961 0.7240316374469453 0.8368376237455939\n",
      "[ 360 ] 0.0049633381138459885 0.724519185327941 0.835222380981449\n",
      "[ 370 ] 0.004972134960356335 0.7250001680202015 0.8336288886422606\n",
      "[ 380 ] 0.004980813350895855 0.7254746739287958 0.8320568538426545\n",
      "[ 390 ] 0.00498937488056061 0.7259427902683488 0.8305059876411669\n",
      "0.5561566308014763\n"
     ]
    }
   ],
   "source": [
    "neuron = Neuron()\n",
    "neuron.fit(x_train, y_train, 0.01)\n",
    "\n",
    "\n",
    "predict=[]\n",
    "predict = x_test * neuron.w + neuron.b\n",
    "\n",
    "from sklearn.metrics import mean_squared_error\n",
    "print(np.sqrt(mean_squared_error(predict, y_test)))"
   ]
  },
  {
   "cell_type": "code",
   "execution_count": 9,
   "id": "47e930e3",
   "metadata": {},
   "outputs": [
    {
     "name": "stderr",
     "output_type": "stream",
     "text": [
      "C:\\Users\\yimst\\AppData\\Local\\Temp\\ipykernel_9416\\3848095786.py:6: UserWarning: color is redundantly defined by the 'color' keyword argument and the fmt string \"r-\" (-> color='r'). The keyword argument will take precedence.\n",
      "  plt.plot(x_test, predict, 'r-', color='yellow')\n"
     ]
    },
    {
     "data": {
      "text/plain": [
       "<function matplotlib.pyplot.show(close=None, block=None)>"
      ]
     },
     "execution_count": 9,
     "metadata": {},
     "output_type": "execute_result"
    },
    {
     "data": {
      "image/png": "[encoded data removed]",
      "text/plain": [
       "<Figure size 640x480 with 1 Axes>"
      ]
     },
     "metadata": {},
     "output_type": "display_data"
    }
   ],
   "source": [
    "plt.scatter(x_train, y_train, label='true')\n",
    "plt.scatter(x_test, predict, label='pred')\n",
    "pt1 = (-0.1, -0.1 * neuron.w + neuron.b)\n",
    "pt2 = (5, 5 * neuron.w + neuron.b)\n",
    "# plt.plot([pt1[0], pt2[0]], [pt1[1], pt2[1]],color='orange')\n",
    "plt.plot(x_test, predict, 'r-', color='yellow')\n",
    "plt.legend()\n",
    "plt.show"
   ]
  },
  {
   "cell_type": "code",
   "execution_count": null,
   "id": "a2d3392c",
   "metadata": {},
   "outputs": [],
   "source": []
  }
 ],
 "metadata": {
  "kernelspec": {
   "display_name": "Python 3 (ipykernel)",
   "language": "python",
   "name": "python3"
  },
  "language_info": {
   "codemirror_mode": {
    "name": "ipython",
    "version": 3
   },
   "file_extension": ".py",
   "mimetype": "text/x-python",
   "name": "python",
   "nbconvert_exporter": "python",
   "pygments_lexer": "ipython3",
   "version": "3.9.13"
  }
 },
 "nbformat": 4,
 "nbformat_minor": 5
}
