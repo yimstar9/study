{
 "cells": [
  {
   "cell_type": "code",
   "execution_count": 2,
   "id": "ffb5f160",
   "metadata": {},
   "outputs": [
    {
     "data": {
      "text/html": [
       "<table>\n",
       "<thead><tr><th scope=col>resident</th><th scope=col>gender</th><th scope=col>age</th><th scope=col>level</th><th scope=col>cost</th><th scope=col>type</th><th scope=col>survey</th><th scope=col>pass</th></tr></thead>\n",
       "<tbody>\n",
       "\t<tr><td> 1 </td><td>1  </td><td>50 </td><td> 1 </td><td>5.1</td><td>1  </td><td>1  </td><td> 2 </td></tr>\n",
       "\t<tr><td> 2 </td><td>1  </td><td>54 </td><td> 2 </td><td>4.2</td><td>1  </td><td>2  </td><td> 2 </td></tr>\n",
       "\t<tr><td>NA </td><td>1  </td><td>62 </td><td> 2 </td><td>4.7</td><td>1  </td><td>1  </td><td> 1 </td></tr>\n",
       "\t<tr><td> 4 </td><td>2  </td><td>50 </td><td>NA </td><td>3.5</td><td>1  </td><td>4  </td><td> 1 </td></tr>\n",
       "\t<tr><td> 5 </td><td>1  </td><td>51 </td><td> 1 </td><td>5.0</td><td>1  </td><td>3  </td><td> 1 </td></tr>\n",
       "\t<tr><td> 3 </td><td>1  </td><td>55 </td><td> 2 </td><td>5.4</td><td>1  </td><td>3  </td><td>NA </td></tr>\n",
       "</tbody>\n",
       "</table>\n"
      ],
      "text/latex": [
       "\\begin{tabular}{r|llllllll}\n",
       " resident & gender & age & level & cost & type & survey & pass\\\\\n",
       "\\hline\n",
       "\t  1  & 1   & 50  &  1  & 5.1 & 1   & 1   &  2 \\\\\n",
       "\t  2  & 1   & 54  &  2  & 4.2 & 1   & 2   &  2 \\\\\n",
       "\t NA  & 1   & 62  &  2  & 4.7 & 1   & 1   &  1 \\\\\n",
       "\t  4  & 2   & 50  & NA  & 3.5 & 1   & 4   &  1 \\\\\n",
       "\t  5  & 1   & 51  &  1  & 5.0 & 1   & 3   &  1 \\\\\n",
       "\t  3  & 1   & 55  &  2  & 5.4 & 1   & 3   & NA \\\\\n",
       "\\end{tabular}\n"
      ],
      "text/markdown": [
       "\n",
       "| resident | gender | age | level | cost | type | survey | pass |\n",
       "|---|---|---|---|---|---|---|---|\n",
       "|  1  | 1   | 50  |  1  | 5.1 | 1   | 1   |  2  |\n",
       "|  2  | 1   | 54  |  2  | 4.2 | 1   | 2   |  2  |\n",
       "| NA  | 1   | 62  |  2  | 4.7 | 1   | 1   |  1  |\n",
       "|  4  | 2   | 50  | NA  | 3.5 | 1   | 4   |  1  |\n",
       "|  5  | 1   | 51  |  1  | 5.0 | 1   | 3   |  1  |\n",
       "|  3  | 1   | 55  |  2  | 5.4 | 1   | 3   | NA  |\n",
       "\n"
      ],
      "text/plain": [
       "  resident gender age level cost type survey pass\n",
       "1  1       1      50   1    5.1  1    1       2  \n",
       "2  2       1      54   2    4.2  1    2       2  \n",
       "3 NA       1      62   2    4.7  1    1       1  \n",
       "4  4       2      50  NA    3.5  1    4       1  \n",
       "5  5       1      51   1    5.0  1    3       1  \n",
       "6  3       1      55   2    5.4  1    3      NA  "
      ]
     },
     "metadata": {},
     "output_type": "display_data"
    },
    {
     "data": {
      "text/html": [
       "<ol class=list-inline>\n",
       "\t<li>300</li>\n",
       "\t<li>8</li>\n",
       "</ol>\n"
      ],
      "text/latex": [
       "\\begin{enumerate*}\n",
       "\\item 300\n",
       "\\item 8\n",
       "\\end{enumerate*}\n"
      ],
      "text/markdown": [
       "1. 300\n",
       "2. 8\n",
       "\n",
       "\n"
      ],
      "text/plain": [
       "[1] 300   8"
      ]
     },
     "metadata": {},
     "output_type": "display_data"
    },
    {
     "data": {
      "text/html": [
       "8"
      ],
      "text/latex": [
       "8"
      ],
      "text/markdown": [
       "8"
      ],
      "text/plain": [
       "[1] 8"
      ]
     },
     "metadata": {},
     "output_type": "display_data"
    },
    {
     "data": {
      "text/html": [
       "300"
      ],
      "text/latex": [
       "300"
      ],
      "text/markdown": [
       "300"
      ],
      "text/plain": [
       "[1] 300"
      ]
     },
     "metadata": {},
     "output_type": "display_data"
    },
    {
     "name": "stdout",
     "output_type": "stream",
     "text": [
      "'data.frame':\t300 obs. of  8 variables:\n",
      " $ resident: int  1 2 NA 4 5 3 2 5 NA 2 ...\n",
      " $ gender  : int  1 1 1 2 1 1 2 1 1 1 ...\n",
      " $ age     : int  50 54 62 50 51 55 56 49 49 49 ...\n",
      " $ level   : int  1 2 2 NA 1 2 1 2 1 2 ...\n",
      " $ cost    : num  5.1 4.2 4.7 3.5 5 5.4 4.1 675 4.4 4.9 ...\n",
      " $ type    : int  1 1 1 1 1 1 1 NA 1 1 ...\n",
      " $ survey  : int  1 2 1 4 3 3 NA NA NA 1 ...\n",
      " $ pass    : int  2 2 1 1 1 NA 2 2 2 1 ...\n"
     ]
    },
    {
     "data": {
      "text/plain": [
       "    resident         gender          age            level      \n",
       " Min.   :1.000   Min.   :0.00   Min.   :40.00   Min.   :1.000  \n",
       " 1st Qu.:1.000   1st Qu.:1.00   1st Qu.:48.00   1st Qu.:1.000  \n",
       " Median :2.000   Median :1.00   Median :53.00   Median :2.000  \n",
       " Mean   :2.233   Mean   :1.42   Mean   :53.88   Mean   :1.836  \n",
       " 3rd Qu.:3.000   3rd Qu.:2.00   3rd Qu.:60.00   3rd Qu.:2.000  \n",
       " Max.   :5.000   Max.   :5.00   Max.   :69.00   Max.   :3.000  \n",
       " NA's   :21                                     NA's   :13     \n",
       "      cost               type          survey          pass      \n",
       " Min.   :-457.200   Min.   :1.00   Min.   :1.00   Min.   :1.000  \n",
       " 1st Qu.:   4.425   1st Qu.:1.00   1st Qu.:2.00   1st Qu.:1.000  \n",
       " Median :   5.400   Median :1.00   Median :3.00   Median :1.000  \n",
       " Mean   :   8.752   Mean   :1.27   Mean   :2.61   Mean   :1.432  \n",
       " 3rd Qu.:   6.300   3rd Qu.:2.00   3rd Qu.:3.00   3rd Qu.:2.000  \n",
       " Max.   : 675.000   Max.   :2.00   Max.   :5.00   Max.   :2.000  \n",
       " NA's   :30         NA's   :26     NA's   :113    NA's   :20     "
      ]
     },
     "metadata": {},
     "output_type": "display_data"
    }
   ],
   "source": [
    "#1단계: 데이터 셋 가져오기\n",
    "data <- read.csv(\"E:/GoogleDrive/DATASET/dataset2/descriptive.csv\", header = TRUE)\n",
    "head(data)\n",
    "\n",
    "#2단계: 데이터 셋의 데이터 특성 보기\n",
    "dim(data)\n",
    "length(data)\n",
    "length(data$survey)\n",
    "str(data)\n",
    "\n",
    "#3단계: 데이터 특성(최소값, 최대값, 평균, 분위수, 결측치 등) 제공\n",
    "summary(data)"
   ]
  }
 ],
 "metadata": {
  "kernelspec": {
   "display_name": "R",
   "language": "R",
   "name": "ir"
  },
  "language_info": {
   "codemirror_mode": "r",
   "file_extension": ".r",
   "mimetype": "text/x-r-source",
   "name": "R",
   "pygments_lexer": "r",
   "version": "3.6.1"
  }
 },
 "nbformat": 4,
 "nbformat_minor": 5
}
