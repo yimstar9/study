{
 "cells": [
  {
   "cell_type": "code",
   "execution_count": 1,
   "id": "9bf511c8",
   "metadata": {},
   "outputs": [],
   "source": [
    "import numpy as np\n",
    "import pandas as pd\n",
    "import matplotlib.pyplot as plt\n",
    "from sklearn.preprocessing import LabelEncoder\n",
    "from SyncRNG import SyncRNG"
   ]
  },
  {
   "cell_type": "code",
   "execution_count": 4,
   "id": "c6a3fd9e",
   "metadata": {},
   "outputs": [
    {
     "data": {
      "text/plain": [
       "((361, 13), (361, 13), (361,), (361,))"
      ]
     },
     "execution_count": 4,
     "metadata": {},
     "output_type": "execute_result"
    }
   ],
   "source": [
    "raw_data = pd.read_csv('E:/GoogleDrive/포트폴리오/A5팀 R과 Python기반 머신러닝과 딥러닝 분석 비교(12월22일)/dataset/weather.csv',encoding='cp949')\n",
    "raw_data.head()\n",
    "#날짜 제거\n",
    "raw_data.drop(['Date'],axis=1,inplace=True)\n",
    "\n",
    "#범주형변수 레이블인코더\n",
    "le = LabelEncoder()\n",
    "cat_cols = ['WindGustDir', 'WindDir', 'RainToday','RainTomorrow']\n",
    "raw_data[cat_cols] = raw_data[cat_cols].apply(le.fit_transform)\n",
    "\n",
    "#각 변수간 범위가 전부 다르기 때문에 최소-최대 정규화로 스케일링\n",
    "from sklearn.preprocessing import MinMaxScaler\n",
    "scaler = MinMaxScaler()\n",
    "\n",
    "cols = ['MinTemp', 'MaxTemp', 'Rainfall', 'Sunshine', 'WindGustDir',\n",
    "       'WindGustSpeed', 'WindDir', 'WindSpeed', 'Humidity', 'Pressure',\n",
    "       'Cloud', 'Temp', 'RainToday', 'RainTomorrow']\n",
    "raw_data[cols] = scaler.fit_transform(raw_data[cols])\n",
    "\n",
    "\n",
    "# 데이터 셋  7:3 으로 분할\n",
    "v=list(range(1,len(raw_data)+1))\n",
    "s=SyncRNG(seed=42)\n",
    "ord=s.shuffle(v)\n",
    "idx=ord[:round(len(raw_data)*0.7)]\n",
    "\n",
    "# R에서는 데이터프레임이 1부터 시작하기 때문에\n",
    "# python에서 0행과 R에서 1행이 같은 원리로\n",
    "# 같은 인덱스 번호를 가진다면 -1을 해주어 같은 데이터를 가지고 오게 한다.\n",
    "# 인덱스 수정-R이랑 같은 데이터 가져오려고\n",
    "for i in range(0,len(idx)):\n",
    "    idx[i]=idx[i]-1\n",
    "\n",
    "# 학습데이터, 테스트데이터 생성\n",
    "train=raw_data.loc[idx] # 70%\n",
    "#train=train.sort_index(ascending=True)\n",
    "test=raw_data.drop(idx) # 30%\n",
    "\n",
    "#결측치 제거\n",
    "# raw_data=raw_data.dropna()\n",
    "train=raw_data.dropna()\n",
    "test=raw_data.dropna()\n",
    "#np.sum(train.isnull(),axis=0)\n",
    "\n",
    "\n",
    "x_train = np.array(train.iloc[:,0:13], dtype=np.float32)\n",
    "y_train = np.array(train.iloc[:,-1], dtype=np.float32)\n",
    "x_test = np.array(test.iloc[:,0:13], dtype=np.float32)\n",
    "y_test = np.array(test.iloc[:,-1], dtype=np.float32)\n",
    "\n",
    "x_train.shape, x_test.shape, y_train.shape,y_test.shape"
   ]
  },
  {
   "cell_type": "code",
   "execution_count": 5,
   "id": "8eff7e28",
   "metadata": {},
   "outputs": [],
   "source": [
    "class SingleLayer:\n",
    "\n",
    "    def __init__(self):\n",
    "        self.w = None\n",
    "        self.b = None\n",
    "        self.losses = []\n",
    "\n",
    "    def forpass(self, x):\n",
    "        z = np.sum(x * self.w) + self.b  # 직선 방정식을 계산합니다\n",
    "        return z\n",
    "\n",
    "    def backprop(self, x, err):\n",
    "        w_grad = x * err  # 가중치에 대한 그래디언트를 계산합니다\n",
    "        b_grad = 1 * err  # 절편에 대한 그래디언트를 계산합니다\n",
    "        return w_grad, b_grad\n",
    "\n",
    "    def activation(self, z):\n",
    "        z = np.clip(z, -100, None)  # 안전한 np.exp() 계산을 위해\n",
    "        a = 1 / (1 + np.exp(-z))  # 시그모이드 계산\n",
    "        return a\n",
    "\n",
    "    def fit(self, x, y,lr, epochs=401):\n",
    "        self.w = np.ones(x.shape[1])  # 가중치를 초기화합니다.\n",
    "        self.b = 0  # 절편을 초기화합니다.\n",
    "\n",
    "        for j in range(epochs):  # epochs만큼 반복합니다\n",
    "            loss = 0\n",
    "            # 인덱스를 섞습니다\n",
    "            indexes = np.random.permutation(np.arange(len(x)))\n",
    "            for i in indexes:  # 모든 샘플에 대해 반복합니다\n",
    "                n=len(x)\n",
    "                z = self.forpass(x[i])  # 정방향 계산\n",
    "                a = self.activation(z)  # 활성화 함수 적용\n",
    "                err = -(2/n)*(y[i] - a)  # 오차 계산\n",
    "                w_grad, b_grad = self.backprop(x[i], err)  # 역방향 계산\n",
    "\n",
    "                self.w -= w_grad*lr  # 가중치 업데이트\n",
    "                self.b -= b_grad*lr # 절편 업데이트\n",
    "                # 안전한 로그 계산을 위해 클리핑한 후 손실을 누적합니다\n",
    "                a = np.clip(a, 1e-10, 1 - 1e-10)\n",
    "                loss += -(y[i] * np.log(a) + (1 - y[i]) * np.log(1 - a))\n",
    "            # 에포크마다 평균 손실을 저장합니다\n",
    "            self.losses.append(loss / len(y))\n",
    "            if j % 100 == 0:\n",
    "             print('[',j,']',err,self.b,self.w)\n",
    "\n",
    "    def predict(self, x):\n",
    "        z = [self.forpass(x_i) for x_i in x]  # 정방향 계산\n",
    "        return np.array(z) > 0  # 스텝 함수 적용\n",
    "\n",
    "    def proba(self,x):  #ROC 커브용 확률출력 메서드\n",
    "        z = [self.forpass(x_i) for x_i in x]\n",
    "        return np.array(z)\n",
    "\n",
    "    def score(self, x, y):\n",
    "        return np.mean(self.predict(x) == y)"
   ]
  },
  {
   "cell_type": "code",
   "execution_count": 6,
   "id": "e457d2ab",
   "metadata": {},
   "outputs": [
    {
     "name": "stdout",
     "output_type": "stream",
     "text": [
      "[ 0 ] 0.0026577378035049 -1.3839835406854968 [0.35955868 0.36164923 0.95636205 0.11825964 0.450752   0.58078707\n",
      " 0.33210647 0.51645998 0.53049512 0.20490828 0.38695441 0.32668621\n",
      " 0.77568145]\n",
      "[ 100 ] 0.0005248929326727783 -2.613929716276834 [ 0.7595625   0.88491717  0.52750565 -2.28961136  0.26300575  1.68242433\n",
      "  0.24457441  0.0205309   1.41122681 -2.54417071  1.76587417  0.49684607\n",
      "  0.03831223]\n",
      "[ 200 ] 0.0015132412582032435 -2.7227271612767514 [ 0.57580759  1.26120162  0.2256669  -2.68977942  0.28113801  2.44247008\n",
      "  0.37193058 -0.26448722  1.93999776 -3.33291088  1.80207578  0.72806654\n",
      " -0.11485503]\n",
      "[ 300 ] 0.0008201562561713348 -2.7047611503130247 [ 2.80692033e-01  1.52420290e+00  1.77690739e-03 -2.85783318e+00\n",
      "  2.48848044e-01  2.98740489e+00  4.12104413e-01 -5.56689527e-01\n",
      "  2.37199783e+00 -3.69463612e+00  1.73777310e+00  9.00575406e-01\n",
      " -1.59372294e-01]\n",
      "[ 400 ] 0.002601257894228616 -2.6835480650110846 [-0.04283733  1.72801697 -0.1681208  -2.95991082  0.19761569  3.40982563\n",
      "  0.41475896 -0.83650214  2.71360133 -3.91062646  1.65106599  1.03919943\n",
      " -0.17635283]\n",
      "0.8864265927977839\n",
      "0.8725761772853186\n"
     ]
    },
    {
     "data": {
      "image/png": "[encoded data removed]",
      "text/plain": [
       "<Figure size 640x480 with 1 Axes>"
      ]
     },
     "metadata": {},
     "output_type": "display_data"
    }
   ],
   "source": [
    "layer = SingleLayer()\n",
    "layer.fit(x_train, y_train, 1)\n",
    "print(layer.score(x_test, y_test))\n",
    "layer.predict(x_test)\n",
    "from sklearn.linear_model import LogisticRegression\n",
    "#print(inspect.getsource(LogisticRegression))\n",
    "log=LogisticRegression()\n",
    "log.fit(x_train, y_train)\n",
    "print(log.score(x_test, y_test))\n",
    "\n",
    "plt.plot(layer.losses)\n",
    "plt.xlabel('epoch')\n",
    "plt.ylabel('loss')\n",
    "plt.show()"
   ]
  },
  {
   "cell_type": "code",
   "execution_count": 7,
   "id": "0db23878",
   "metadata": {},
   "outputs": [
    {
     "name": "stdout",
     "output_type": "stream",
     "text": [
      "ROC auc value : 0.7446465696465696\n",
      "              precision    recall  f1-score   support\n",
      "\n",
      "       False       0.97      0.90      0.93       317\n",
      "        True       0.52      0.77      0.62        44\n",
      "\n",
      "    accuracy                           0.89       361\n",
      "   macro avg       0.74      0.84      0.78       361\n",
      "weighted avg       0.91      0.89      0.90       361\n",
      "\n"
     ]
    }
   ],
   "source": [
    "from sklearn.metrics import roc_auc_score\n",
    "print('ROC auc value : {}'.format(roc_auc_score(y_test,layer.predict(x_test)))) # auc에 대한 면적\n",
    "#ROC auc value : 0.7523388773388773\n",
    "\n",
    "from sklearn.metrics import classification_report\n",
    "print(classification_report(layer.predict(x_test) , y_test))\n",
    "#               precision    recall  f1-score   support\n",
    "#        False       0.97      0.91      0.93       316\n",
    "#         True       0.54      0.78      0.64        45\n",
    "#     accuracy                           0.89       361\n",
    "#    macro avg       0.75      0.84      0.79       361\n",
    "# weighted avg       0.91      0.89      0.90       361"
   ]
  },
  {
   "cell_type": "code",
   "execution_count": 8,
   "id": "37421766",
   "metadata": {},
   "outputs": [
    {
     "data": {
      "image/png": "[encoded data removed]",
      "text/plain": [
       "<Figure size 500x500 with 1 Axes>"
      ]
     },
     "metadata": {},
     "output_type": "display_data"
    }
   ],
   "source": [
    "#시각화\n",
    "##ROC커브 시각화\n",
    "pro=layer.proba(x_test)\n",
    "from sklearn.metrics import roc_curve\n",
    "import inspect\n",
    "\n",
    "fprs, tprs, thresholds = roc_curve(y_test, pro,pos_label=1)\n",
    "precisions, recalls, thresholds = roc_curve(y_test, pro,pos_label=1)\n",
    "\n",
    "# ROC\n",
    "plt.figure(figsize=(5,5))\n",
    "plt.plot(fprs,tprs,label='ROC')\n",
    "plt.xlabel('False Positive Rate')\n",
    "plt.ylabel('True Positive Rate')\n",
    "plt.show()"
   ]
  }
 ],
 "metadata": {
  "kernelspec": {
   "display_name": "Python 3 (ipykernel)",
   "language": "python",
   "name": "python3"
  },
  "language_info": {
   "codemirror_mode": {
    "name": "ipython",
    "version": 3
   },
   "file_extension": ".py",
   "mimetype": "text/x-python",
   "name": "python",
   "nbconvert_exporter": "python",
   "pygments_lexer": "ipython3",
   "version": "3.9.13"
  }
 },
 "nbformat": 4,
 "nbformat_minor": 5
}
