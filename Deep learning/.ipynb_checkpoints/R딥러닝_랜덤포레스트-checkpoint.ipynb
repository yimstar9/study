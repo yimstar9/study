{
 "cells": [
  {
   "cell_type": "code",
   "execution_count": 2,
   "id": "275d2a52",
   "metadata": {},
   "outputs": [],
   "source": [
    "library(randomForest)\n",
    "library(SyncRNG)\n",
    "library(ggplot2)\n",
    "library(caret)\n",
    "library(ModelMetrics)"
   ]
  },
  {
   "cell_type": "code",
   "execution_count": 3,
   "id": "168799a5",
   "metadata": {},
   "outputs": [
    {
     "data": {
      "text/html": [
       "<table>\n",
       "<thead><tr><th scope=col>Sepal.Length</th><th scope=col>Sepal.Width</th><th scope=col>Petal.Length</th><th scope=col>Petal.Width</th><th scope=col>Species</th></tr></thead>\n",
       "<tbody>\n",
       "\t<tr><td>5.1   </td><td>3.5   </td><td>1.4   </td><td>0.2   </td><td>setosa</td></tr>\n",
       "\t<tr><td>4.9   </td><td>3.0   </td><td>1.4   </td><td>0.2   </td><td>setosa</td></tr>\n",
       "\t<tr><td>4.7   </td><td>3.2   </td><td>1.3   </td><td>0.2   </td><td>setosa</td></tr>\n",
       "\t<tr><td>4.6   </td><td>3.1   </td><td>1.5   </td><td>0.2   </td><td>setosa</td></tr>\n",
       "\t<tr><td>5.0   </td><td>3.6   </td><td>1.4   </td><td>0.2   </td><td>setosa</td></tr>\n",
       "\t<tr><td>5.4   </td><td>3.9   </td><td>1.7   </td><td>0.4   </td><td>setosa</td></tr>\n",
       "</tbody>\n",
       "</table>\n"
      ],
      "text/latex": [
       "\\begin{tabular}{r|lllll}\n",
       " Sepal.Length & Sepal.Width & Petal.Length & Petal.Width & Species\\\\\n",
       "\\hline\n",
       "\t 5.1    & 3.5    & 1.4    & 0.2    & setosa\\\\\n",
       "\t 4.9    & 3.0    & 1.4    & 0.2    & setosa\\\\\n",
       "\t 4.7    & 3.2    & 1.3    & 0.2    & setosa\\\\\n",
       "\t 4.6    & 3.1    & 1.5    & 0.2    & setosa\\\\\n",
       "\t 5.0    & 3.6    & 1.4    & 0.2    & setosa\\\\\n",
       "\t 5.4    & 3.9    & 1.7    & 0.4    & setosa\\\\\n",
       "\\end{tabular}\n"
      ],
      "text/markdown": [
       "\n",
       "| Sepal.Length | Sepal.Width | Petal.Length | Petal.Width | Species |\n",
       "|---|---|---|---|---|\n",
       "| 5.1    | 3.5    | 1.4    | 0.2    | setosa |\n",
       "| 4.9    | 3.0    | 1.4    | 0.2    | setosa |\n",
       "| 4.7    | 3.2    | 1.3    | 0.2    | setosa |\n",
       "| 4.6    | 3.1    | 1.5    | 0.2    | setosa |\n",
       "| 5.0    | 3.6    | 1.4    | 0.2    | setosa |\n",
       "| 5.4    | 3.9    | 1.7    | 0.4    | setosa |\n",
       "\n"
      ],
      "text/plain": [
       "  Sepal.Length Sepal.Width Petal.Length Petal.Width Species\n",
       "1 5.1          3.5         1.4          0.2         setosa \n",
       "2 4.9          3.0         1.4          0.2         setosa \n",
       "3 4.7          3.2         1.3          0.2         setosa \n",
       "4 4.6          3.1         1.5          0.2         setosa \n",
       "5 5.0          3.6         1.4          0.2         setosa \n",
       "6 5.4          3.9         1.7          0.4         setosa "
      ]
     },
     "metadata": {},
     "output_type": "display_data"
    },
    {
     "name": "stdout",
     "output_type": "stream",
     "text": [
      "'data.frame':\t150 obs. of  5 variables:\n",
      " $ Sepal.Length: num  5.1 4.9 4.7 4.6 5 5.4 4.6 5 4.4 4.9 ...\n",
      " $ Sepal.Width : num  3.5 3 3.2 3.1 3.6 3.9 3.4 3.4 2.9 3.1 ...\n",
      " $ Petal.Length: num  1.4 1.4 1.3 1.5 1.4 1.7 1.4 1.5 1.4 1.5 ...\n",
      " $ Petal.Width : num  0.2 0.2 0.2 0.2 0.2 0.4 0.3 0.2 0.2 0.1 ...\n",
      " $ Species     : Factor w/ 3 levels \"setosa\",\"versicolor\",..: 1 1 1 1 1 1 1 1 1 1 ...\n"
     ]
    },
    {
     "data": {
      "text/plain": [
       "  Sepal.Length    Sepal.Width     Petal.Length    Petal.Width   \n",
       " Min.   :4.300   Min.   :2.000   Min.   :1.000   Min.   :0.100  \n",
       " 1st Qu.:5.100   1st Qu.:2.800   1st Qu.:1.600   1st Qu.:0.300  \n",
       " Median :5.800   Median :3.000   Median :4.350   Median :1.300  \n",
       " Mean   :5.843   Mean   :3.057   Mean   :3.758   Mean   :1.199  \n",
       " 3rd Qu.:6.400   3rd Qu.:3.300   3rd Qu.:5.100   3rd Qu.:1.800  \n",
       " Max.   :7.900   Max.   :4.400   Max.   :6.900   Max.   :2.500  \n",
       "       Species  \n",
       " setosa    :50  \n",
       " versicolor:50  \n",
       " virginica :50  \n",
       "                \n",
       "                \n",
       "                "
      ]
     },
     "metadata": {},
     "output_type": "display_data"
    },
    {
     "data": {
      "text/plain": [
       "\n",
       "    setosa versicolor  virginica \n",
       "        50         50         50 "
      ]
     },
     "metadata": {},
     "output_type": "display_data"
    }
   ],
   "source": [
    "data(iris)\n",
    "head(iris)\n",
    "str(iris)\n",
    "summary(iris)\n",
    "df<-iris\n",
    "table(df$Species)"
   ]
  },
  {
   "cell_type": "code",
   "execution_count": 4,
   "id": "945657be",
   "metadata": {},
   "outputs": [],
   "source": [
    "v <- 1:nrow(df)\n",
    "s <- SyncRNG(seed=38)\n",
    "idx <- s$shuffle(v)[1:round(nrow(df)*0.7)]\n",
    "train<-df[idx,]\n",
    "test<-df[-idx,]"
   ]
  },
  {
   "cell_type": "code",
   "execution_count": 5,
   "id": "e6ce4010",
   "metadata": {
    "scrolled": false
   },
   "outputs": [
    {
     "data": {
      "image/png": "[encoded data removed]",
      "text/plain": [
       "Plot with title \"m_rf\""
      ]
     },
     "metadata": {},
     "output_type": "display_data"
    },
    {
     "data": {
      "text/plain": [
       "Confusion Matrix and Statistics\n",
       "\n",
       "            Reference\n",
       "Prediction   setosa versicolor virginica\n",
       "  setosa         15          0         0\n",
       "  versicolor      0         13         0\n",
       "  virginica       0          2        15\n",
       "\n",
       "Overall Statistics\n",
       "                                          \n",
       "               Accuracy : 0.9556          \n",
       "                 95% CI : (0.8485, 0.9946)\n",
       "    No Information Rate : 0.3333          \n",
       "    P-Value [Acc > NIR] : < 2.2e-16       \n",
       "                                          \n",
       "                  Kappa : 0.9333          \n",
       "                                          \n",
       " Mcnemar's Test P-Value : NA              \n",
       "\n",
       "Statistics by Class:\n",
       "\n",
       "                     Class: setosa Class: versicolor Class: virginica\n",
       "Sensitivity                 1.0000            0.8667           1.0000\n",
       "Specificity                 1.0000            1.0000           0.9333\n",
       "Pos Pred Value              1.0000            1.0000           0.8824\n",
       "Neg Pred Value              1.0000            0.9375           1.0000\n",
       "Prevalence                  0.3333            0.3333           0.3333\n",
       "Detection Rate              0.3333            0.2889           0.3333\n",
       "Detection Prevalence        0.3333            0.2889           0.3778\n",
       "Balanced Accuracy           1.0000            0.9333           0.9667"
      ]
     },
     "metadata": {},
     "output_type": "display_data"
    },
    {
     "data": {
      "text/html": [
       "<table>\n",
       "<thead><tr><th></th><th scope=col>Sensitivity</th><th scope=col>Specificity</th><th scope=col>Pos Pred Value</th><th scope=col>Neg Pred Value</th><th scope=col>Precision</th><th scope=col>Recall</th><th scope=col>F1</th><th scope=col>Prevalence</th><th scope=col>Detection Rate</th><th scope=col>Detection Prevalence</th><th scope=col>Balanced Accuracy</th></tr></thead>\n",
       "<tbody>\n",
       "\t<tr><th scope=row>Class: setosa</th><td>1.0000000</td><td>1.0000000</td><td>1.0000000</td><td>1.0000   </td><td>1.0000000</td><td>1.0000000</td><td>1.0000000</td><td>0.3333333</td><td>0.3333333</td><td>0.3333333</td><td>1.0000000</td></tr>\n",
       "\t<tr><th scope=row>Class: versicolor</th><td>0.8666667</td><td>1.0000000</td><td>1.0000000</td><td>0.9375   </td><td>1.0000000</td><td>0.8666667</td><td>0.9285714</td><td>0.3333333</td><td>0.2888889</td><td>0.2888889</td><td>0.9333333</td></tr>\n",
       "\t<tr><th scope=row>Class: virginica</th><td>1.0000000</td><td>0.9333333</td><td>0.8823529</td><td>1.0000   </td><td>0.8823529</td><td>1.0000000</td><td>0.9375000</td><td>0.3333333</td><td>0.3333333</td><td>0.3777778</td><td>0.9666667</td></tr>\n",
       "</tbody>\n",
       "</table>\n"
      ],
      "text/latex": [
       "\\begin{tabular}{r|lllllllllll}\n",
       "  & Sensitivity & Specificity & Pos Pred Value & Neg Pred Value & Precision & Recall & F1 & Prevalence & Detection Rate & Detection Prevalence & Balanced Accuracy\\\\\n",
       "\\hline\n",
       "\tClass: setosa & 1.0000000 & 1.0000000 & 1.0000000 & 1.0000    & 1.0000000 & 1.0000000 & 1.0000000 & 0.3333333 & 0.3333333 & 0.3333333 & 1.0000000\\\\\n",
       "\tClass: versicolor & 0.8666667 & 1.0000000 & 1.0000000 & 0.9375    & 1.0000000 & 0.8666667 & 0.9285714 & 0.3333333 & 0.2888889 & 0.2888889 & 0.9333333\\\\\n",
       "\tClass: virginica & 1.0000000 & 0.9333333 & 0.8823529 & 1.0000    & 0.8823529 & 1.0000000 & 0.9375000 & 0.3333333 & 0.3333333 & 0.3777778 & 0.9666667\\\\\n",
       "\\end{tabular}\n"
      ],
      "text/markdown": [
       "\n",
       "| <!--/--> | Sensitivity | Specificity | Pos Pred Value | Neg Pred Value | Precision | Recall | F1 | Prevalence | Detection Rate | Detection Prevalence | Balanced Accuracy |\n",
       "|---|---|---|---|---|---|---|---|---|---|---|---|\n",
       "| Class: setosa | 1.0000000 | 1.0000000 | 1.0000000 | 1.0000    | 1.0000000 | 1.0000000 | 1.0000000 | 0.3333333 | 0.3333333 | 0.3333333 | 1.0000000 |\n",
       "| Class: versicolor | 0.8666667 | 1.0000000 | 1.0000000 | 0.9375    | 1.0000000 | 0.8666667 | 0.9285714 | 0.3333333 | 0.2888889 | 0.2888889 | 0.9333333 |\n",
       "| Class: virginica | 1.0000000 | 0.9333333 | 0.8823529 | 1.0000    | 0.8823529 | 1.0000000 | 0.9375000 | 0.3333333 | 0.3333333 | 0.3777778 | 0.9666667 |\n",
       "\n"
      ],
      "text/plain": [
       "                  Sensitivity Specificity Pos Pred Value Neg Pred Value\n",
       "Class: setosa     1.0000000   1.0000000   1.0000000      1.0000        \n",
       "Class: versicolor 0.8666667   1.0000000   1.0000000      0.9375        \n",
       "Class: virginica  1.0000000   0.9333333   0.8823529      1.0000        \n",
       "                  Precision Recall    F1        Prevalence Detection Rate\n",
       "Class: setosa     1.0000000 1.0000000 1.0000000 0.3333333  0.3333333     \n",
       "Class: versicolor 1.0000000 0.8666667 0.9285714 0.3333333  0.2888889     \n",
       "Class: virginica  0.8823529 1.0000000 0.9375000 0.3333333  0.3333333     \n",
       "                  Detection Prevalence Balanced Accuracy\n",
       "Class: setosa     0.3333333            1.0000000        \n",
       "Class: versicolor 0.2888889            0.9333333        \n",
       "Class: virginica  0.3777778            0.9666667        "
      ]
     },
     "metadata": {},
     "output_type": "display_data"
    },
    {
     "data": {
      "image/png": "[encoded data removed]",
      "text/plain": [
       "Plot with title \"m_rf\""
      ]
     },
     "metadata": {},
     "output_type": "display_data"
    }
   ],
   "source": [
    "m_rf<-randomForest(Species~.,train,ntree=100,random_state=0)\n",
    "plot(m_rf)\n",
    "randomForest::varImpPlot(m_rf)\n",
    "p_rf<-predict(m_rf, test[,-5])\n",
    "caret::confusionMatrix(p_rf,test$Species)\n",
    "caret::confusionMatrix(p_rf,test$Species)$byClass"
   ]
  },
  {
   "cell_type": "code",
   "execution_count": null,
   "id": "4565102f",
   "metadata": {},
   "outputs": [],
   "source": []
  }
 ],
 "metadata": {
  "kernelspec": {
   "display_name": "R",
   "language": "R",
   "name": "ir"
  },
  "language_info": {
   "codemirror_mode": "r",
   "file_extension": ".r",
   "mimetype": "text/x-r-source",
   "name": "R",
   "pygments_lexer": "r",
   "version": "3.6.1"
  }
 },
 "nbformat": 4,
 "nbformat_minor": 5
}
