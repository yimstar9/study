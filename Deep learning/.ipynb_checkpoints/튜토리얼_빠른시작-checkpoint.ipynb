{
 "cells": [
  {
   "cell_type": "markdown",
   "id": "439208e3",
   "metadata": {},
   "source": [
    "# 빠른 시작(QUICKSTART)"
   ]
  },
  {
   "cell_type": "markdown",
   "id": "910738bb",
   "metadata": {},
   "source": [
    "## 데이터 작업하기\n",
    "파이토치(PyTorch)에는 데이터 작업을 위한 기본 요소 두가지인 torch.utils.data.DataLoader 와 torch.utils.data.Dataset 가 있습니다. Dataset 은 샘플과 정답(label)을 저장하고, DataLoader 는 Dataset 을 순회 가능한 객체(iterable)로 감쌉니다."
   ]
  },
  {
   "cell_type": "code",
   "execution_count": 26,
   "id": "11dfa4d5",
   "metadata": {},
   "outputs": [
    {
     "name": "stdout",
     "output_type": "stream",
     "text": [
      "nvcc: NVIDIA (R) Cuda compiler driver\n",
      "Copyright (c) 2005-2021 NVIDIA Corporation\n",
      "Built on Fri_Dec_17_18:28:54_Pacific_Standard_Time_2021\n",
      "Cuda compilation tools, release 11.6, V11.6.55\n",
      "Build cuda_11.6.r11.6/compiler.30794723_0\n"
     ]
    }
   ],
   "source": [
    "import torch\n",
    "!nvcc --version\n",
    "torch.__version__\n",
    "from torch import nn\n",
    "from torch.utils.data import DataLoader\n",
    "from torchvision import datasets\n",
    "from torchvision.transforms import ToTensor"
   ]
  },
  {
   "cell_type": "raw",
   "id": "4f985c20",
   "metadata": {},
   "source": [
    "PyTorch는 TorchText, TorchVision 및 TorchAudio 와 같이 도메인 특화 라이브러리를 데이터셋과 함께 제공하고 있습니다. 이 튜토리얼에서는 TorchVision 데이터셋을 사용하도록 하겠습니다.\n",
    "\n",
    "torchvision.datasets 모듈은 CIFAR, COCO 등과 같은 다양한 실제 비전(vision) 데이터에 대한 Dataset(전체 목록은 여기)을 포함하고 있습니다. 이 튜토리얼에서는 FasionMNIST 데이터셋을 사용합니다. 모든 TorchVision Dataset 은 샘플과 정답을 각각 변경하기 위한 transform 과 arget_transform 의 두 인자를 포함합니다."
   ]
  },
  {
   "cell_type": "code",
   "execution_count": 27,
   "id": "0bb3db92",
   "metadata": {},
   "outputs": [],
   "source": [
    "# 공개 데이터셋에서 학습 데이터를 내려받습니다.\n",
    "training_data = datasets.FashionMNIST(\n",
    "    root=\"data\",\n",
    "    train=True,\n",
    "    download=True,\n",
    "    transform=ToTensor(),\n",
    ")\n",
    "\n",
    "# 공개 데이터셋에서 테스트 데이터를 내려받습니다.\n",
    "test_data = datasets.FashionMNIST(\n",
    "    root=\"data\",\n",
    "    train=False,\n",
    "    download=True,\n",
    "    transform=ToTensor(),\n",
    ")"
   ]
  },
  {
   "cell_type": "raw",
   "id": "e9cf35fa",
   "metadata": {},
   "source": [
    "Dataset 을 DataLoader 의 인자로 전달합니다. 이는 데이터셋을 순회 가능한 객체(iterable)로 감싸고,자동화된 배치(batch), 샘플링(sampling), 섞기(shuffle) 및 다중 프로세스로 데이터 불러오기(multiprocess data loading)를 지원합니다. 여기서는 배치 크기(batch size)를 64로 정의합니다. 즉, 데이터로더(dataloader) 객체의 각 요소는 64개의 특징(feature)과 정답(label)을 묶음(batch)으로 반환합니다."
   ]
  },
  {
   "cell_type": "code",
   "execution_count": 28,
   "id": "dae09466",
   "metadata": {},
   "outputs": [
    {
     "name": "stdout",
     "output_type": "stream",
     "text": [
      "Shape of X [N, C, H, W]: torch.Size([64, 1, 28, 28])\n",
      "Shape of y: torch.Size([64]) torch.int64\n"
     ]
    }
   ],
   "source": [
    "batch_size = 64\n",
    "\n",
    "# 데이터로더를 생성합니다.\n",
    "train_dataloader = DataLoader(training_data, batch_size=batch_size)\n",
    "test_dataloader = DataLoader(test_data, batch_size=batch_size)\n",
    "\n",
    "for X, y in test_dataloader:\n",
    "    print(f\"Shape of X [N, C, H, W]: {X.shape}\")\n",
    "    print(f\"Shape of y: {y.shape} {y.dtype}\")\n",
    "    break"
   ]
  },
  {
   "cell_type": "markdown",
   "id": "3516d2f9",
   "metadata": {},
   "source": [
    "## 모델 만들기\n",
    "PyTorch에서 신경망 모델은 nn.Module 을 상속받는 클래스(class)를 생성하여 정의합니다. __init__ 함수에서 신경망의 계층(layer)들을 정의하고 forward 함수에서 신경망에 데이터를 어떻게 전달할지 지정합니다. 가능한 경우 GPU로 신경망을 이동시켜 연산을 가속(accelerate)합니다."
   ]
  },
  {
   "cell_type": "code",
   "execution_count": 29,
   "id": "d62aa21f",
   "metadata": {},
   "outputs": [
    {
     "name": "stdout",
     "output_type": "stream",
     "text": [
      "Using cuda device\n",
      "NeuralNetwork(\n",
      "  (flatten): Flatten(start_dim=1, end_dim=-1)\n",
      "  (linear_relu_stack): Sequential(\n",
      "    (0): Linear(in_features=784, out_features=512, bias=True)\n",
      "    (1): ReLU()\n",
      "    (2): Linear(in_features=512, out_features=512, bias=True)\n",
      "    (3): ReLU()\n",
      "    (4): Linear(in_features=512, out_features=10, bias=True)\n",
      "  )\n",
      ")\n"
     ]
    }
   ],
   "source": [
    "# 학습에 사용할 CPU나 GPU 장치를 얻습니다.\n",
    "device = \"cuda\" if torch.cuda.is_available() else \"cpu\"\n",
    "print(f\"Using {device} device\")\n",
    "\n",
    "# 모델을 정의합니다.\n",
    "class NeuralNetwork(nn.Module):\n",
    "    def __init__(self):\n",
    "        super(NeuralNetwork, self).__init__()\n",
    "        self.flatten = nn.Flatten()\n",
    "        self.linear_relu_stack = nn.Sequential(\n",
    "            nn.Linear(28*28, 512),\n",
    "            nn.ReLU(),\n",
    "            nn.Linear(512, 512),\n",
    "            nn.ReLU(),\n",
    "            nn.Linear(512, 10)\n",
    "        )\n",
    "\n",
    "    def forward(self, x):\n",
    "        x = self.flatten(x)\n",
    "        logits = self.linear_relu_stack(x)\n",
    "        return logits\n",
    "\n",
    "model = NeuralNetwork().to(device)\n",
    "print(model)"
   ]
  },
  {
   "cell_type": "markdown",
   "id": "2dc7cc62",
   "metadata": {},
   "source": [
    "## 모델 매개변수 최적화하기\n",
    "모델을 학습하려면 손실 함수(loss function) 와 옵티마이저(optimizer) 가 필요합니다."
   ]
  },
  {
   "cell_type": "code",
   "execution_count": 30,
   "id": "46b1f4f7",
   "metadata": {},
   "outputs": [],
   "source": [
    "loss_fn = nn.CrossEntropyLoss()\n",
    "optimizer = torch.optim.SGD(model.parameters(), lr=1e-3)"
   ]
  },
  {
   "cell_type": "raw",
   "id": "2a3f9956",
   "metadata": {},
   "source": [
    "각 학습 단계(training loop)에서 모델은 (배치(batch)로 제공되는) 학습 데이터셋에 대한 예측을 수행하고, 예측 오류를 역전파하여 모델의 매개변수를 조정합니다."
   ]
  },
  {
   "cell_type": "code",
   "execution_count": 31,
   "id": "2bd53044",
   "metadata": {},
   "outputs": [],
   "source": [
    "def train(dataloader, model, loss_fn, optimizer):\n",
    "    size = len(dataloader.dataset)\n",
    "    for batch, (X, y) in enumerate(dataloader):\n",
    "        X, y = X.to(device), y.to(device)\n",
    "\n",
    "        # 예측 오류 계산\n",
    "        pred = model(X)\n",
    "        loss = loss_fn(pred, y)\n",
    "\n",
    "        # 역전파\n",
    "        optimizer.zero_grad()\n",
    "        loss.backward()\n",
    "        optimizer.step()\n",
    "\n",
    "        if batch % 100 == 0:\n",
    "            loss, current = loss.item(), batch * len(X)\n",
    "            print(f\"loss: {loss:>7f}  [{current:>5d}/{size:>5d}]\")"
   ]
  },
  {
   "cell_type": "raw",
   "id": "342811fc",
   "metadata": {},
   "source": [
    "모델이 학습하고 있는지를 확인하기 위해 테스트 데이터셋으로 모델의 성능을 확인합니다."
   ]
  },
  {
   "cell_type": "code",
   "execution_count": 32,
   "id": "bf2e7473",
   "metadata": {},
   "outputs": [],
   "source": [
    "def test(dataloader, model, loss_fn):\n",
    "    size = len(dataloader.dataset)\n",
    "    num_batches = len(dataloader)\n",
    "    model.eval()\n",
    "    test_loss, correct = 0, 0\n",
    "    with torch.no_grad():\n",
    "        for X, y in dataloader:\n",
    "            X, y = X.to(device), y.to(device)\n",
    "            pred = model(X)\n",
    "            test_loss += loss_fn(pred, y).item()\n",
    "            correct += (pred.argmax(1) == y).type(torch.float).sum().item()\n",
    "    test_loss /= num_batches\n",
    "    correct /= size\n",
    "    print(f\"Test Error: \\n Accuracy: {(100*correct):>0.1f}%, Avg loss: {test_loss:>8f} \\n\")\n"
   ]
  },
  {
   "cell_type": "raw",
   "id": "2e28a87e",
   "metadata": {},
   "source": [
    "학습 단계는 여러번의 반복 단계 (에폭(epochs)) 를 거쳐서 수행됩니다. 각 에폭에서는 모델은 더 나은 예측을 하기 위해 매개변수를 학습합니다. 각 에폭마다 모델의 정확도(accuracy)와 손실(loss)을 출력합니다; 에폭마다 정확도가 증가하고 손실이 감소하는 것을 보려고 합니다."
   ]
  },
  {
   "cell_type": "code",
   "execution_count": 33,
   "id": "dbdd9703",
   "metadata": {},
   "outputs": [
    {
     "name": "stdout",
     "output_type": "stream",
     "text": [
      "Epoch 1\n",
      "-------------------------------\n",
      "loss: 2.309838  [    0/60000]\n",
      "loss: 2.296745  [ 6400/60000]\n",
      "loss: 2.278908  [12800/60000]\n",
      "loss: 2.272862  [19200/60000]\n",
      "loss: 2.242154  [25600/60000]\n",
      "loss: 2.218157  [32000/60000]\n",
      "loss: 2.228799  [38400/60000]\n",
      "loss: 2.199121  [44800/60000]\n",
      "loss: 2.194714  [51200/60000]\n",
      "loss: 2.151698  [57600/60000]\n",
      "Test Error: \n",
      " Accuracy: 42.9%, Avg loss: 2.152526 \n",
      "\n",
      "Epoch 2\n",
      "-------------------------------\n",
      "loss: 2.169102  [    0/60000]\n",
      "loss: 2.153671  [ 6400/60000]\n",
      "loss: 2.098166  [12800/60000]\n",
      "loss: 2.121139  [19200/60000]\n",
      "loss: 2.051073  [25600/60000]\n",
      "loss: 1.993219  [32000/60000]\n",
      "loss: 2.030703  [38400/60000]\n",
      "loss: 1.954956  [44800/60000]\n",
      "loss: 1.954280  [51200/60000]\n",
      "loss: 1.879784  [57600/60000]\n",
      "Test Error: \n",
      " Accuracy: 58.9%, Avg loss: 1.880246 \n",
      "\n",
      "Epoch 3\n",
      "-------------------------------\n",
      "loss: 1.913747  [    0/60000]\n",
      "loss: 1.875899  [ 6400/60000]\n",
      "loss: 1.764694  [12800/60000]\n",
      "loss: 1.821716  [19200/60000]\n",
      "loss: 1.685539  [25600/60000]\n",
      "loss: 1.641429  [32000/60000]\n",
      "loss: 1.671092  [38400/60000]\n",
      "loss: 1.578298  [44800/60000]\n",
      "loss: 1.592478  [51200/60000]\n",
      "loss: 1.492059  [57600/60000]\n",
      "Test Error: \n",
      " Accuracy: 63.3%, Avg loss: 1.509924 \n",
      "\n",
      "Epoch 4\n",
      "-------------------------------\n",
      "loss: 1.572378  [    0/60000]\n",
      "loss: 1.532946  [ 6400/60000]\n",
      "loss: 1.390053  [12800/60000]\n",
      "loss: 1.480820  [19200/60000]\n",
      "loss: 1.338964  [25600/60000]\n",
      "loss: 1.336107  [32000/60000]\n",
      "loss: 1.356719  [38400/60000]\n",
      "loss: 1.288483  [44800/60000]\n",
      "loss: 1.314326  [51200/60000]\n",
      "loss: 1.218212  [57600/60000]\n",
      "Test Error: \n",
      " Accuracy: 64.1%, Avg loss: 1.245258 \n",
      "\n",
      "Epoch 5\n",
      "-------------------------------\n",
      "loss: 1.318209  [    0/60000]\n",
      "loss: 1.299438  [ 6400/60000]\n",
      "loss: 1.138733  [12800/60000]\n",
      "loss: 1.261640  [19200/60000]\n",
      "loss: 1.119403  [25600/60000]\n",
      "loss: 1.140723  [32000/60000]\n",
      "loss: 1.168216  [38400/60000]\n",
      "loss: 1.111183  [44800/60000]\n",
      "loss: 1.144307  [51200/60000]\n",
      "loss: 1.062330  [57600/60000]\n",
      "Test Error: \n",
      " Accuracy: 65.0%, Avg loss: 1.084182 \n",
      "\n",
      "Done!\n"
     ]
    }
   ],
   "source": [
    "epochs = 5\n",
    "for t in range(epochs):\n",
    "    print(f\"Epoch {t+1}\\n-------------------------------\")\n",
    "    train(train_dataloader, model, loss_fn, optimizer)\n",
    "    test(test_dataloader, model, loss_fn)\n",
    "print(\"Done!\")"
   ]
  },
  {
   "cell_type": "markdown",
   "id": "f4c12a5c",
   "metadata": {},
   "source": [
    "# 모델 저장하기\n",
    "모델을 저장하는 일반적인 방법은 (모델의 매개변수들을 포함하여) 내부 상태 사전(internal state dictionary)을 직렬화(serialize)하는 것입니다. "
   ]
  },
  {
   "cell_type": "code",
   "execution_count": 34,
   "id": "6ff034ca",
   "metadata": {},
   "outputs": [
    {
     "name": "stdout",
     "output_type": "stream",
     "text": [
      "Saved PyTorch Model State to model.pth\n"
     ]
    }
   ],
   "source": [
    "torch.save(model.state_dict(), \"model.pth\")\n",
    "print(\"Saved PyTorch Model State to model.pth\")"
   ]
  },
  {
   "cell_type": "markdown",
   "id": "7281524b",
   "metadata": {},
   "source": [
    "# 모델 불러오기\n",
    "모델을 불러오는 과정에는 모델 구조를 다시 만들고 상태 사전을 모델에 불러오는 과정이 포함됩니다."
   ]
  },
  {
   "cell_type": "code",
   "execution_count": 35,
   "id": "29e16165",
   "metadata": {},
   "outputs": [
    {
     "data": {
      "text/plain": [
       "<All keys matched successfully>"
      ]
     },
     "execution_count": 35,
     "metadata": {},
     "output_type": "execute_result"
    }
   ],
   "source": [
    "model = NeuralNetwork()\n",
    "model.load_state_dict(torch.load(\"model.pth\"))"
   ]
  },
  {
   "cell_type": "code",
   "execution_count": 36,
   "id": "25390c0f",
   "metadata": {},
   "outputs": [
    {
     "name": "stdout",
     "output_type": "stream",
     "text": [
      "Predicted: \"Ankle boot\", Actual: \"Ankle boot\"\n"
     ]
    }
   ],
   "source": [
    "classes = [\n",
    "    \"T-shirt/top\",\n",
    "    \"Trouser\",\n",
    "    \"Pullover\",\n",
    "    \"Dress\",\n",
    "    \"Coat\",\n",
    "    \"Sandal\",\n",
    "    \"Shirt\",\n",
    "    \"Sneaker\",\n",
    "    \"Bag\",\n",
    "    \"Ankle boot\",\n",
    "]\n",
    "\n",
    "model.eval()\n",
    "x, y = test_data[0][0], test_data[0][1]\n",
    "with torch.no_grad():\n",
    "    pred = model(x)\n",
    "    predicted, actual = classes[pred[0].argmax(0)], classes[y]\n",
    "    print(f'Predicted: \"{predicted}\", Actual: \"{actual}\"')"
   ]
  }
 ],
 "metadata": {
  "kernelspec": {
   "display_name": "Python 3 (ipykernel)",
   "language": "python",
   "name": "python3"
  },
  "language_info": {
   "codemirror_mode": {
    "name": "ipython",
    "version": 3
   },
   "file_extension": ".py",
   "mimetype": "text/x-python",
   "name": "python",
   "nbconvert_exporter": "python",
   "pygments_lexer": "ipython3",
   "version": "3.9.13"
  }
 },
 "nbformat": 4,
 "nbformat_minor": 5
}
