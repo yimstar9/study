{
 "cells": [
  {
   "cell_type": "code",
   "execution_count": 12,
   "id": "63df4a35",
   "metadata": {},
   "outputs": [],
   "source": [
    "# 비 유무 예측 주제로 R을 이용한 로지스틱 회귀분석을 실시하고, 인공신경망을 \n",
    "# 이용한 로지스틱 회귀분석을 python으로 실행하여 결과를 비교한다.\n",
    "library(car)\n",
    "library(caret)\n",
    "library(ModelMetrics)\n",
    "library(corrplot)\n",
    "df<-read.csv(\"E:/GoogleDrive/DATASET/dataset4/weather.csv\")"
   ]
  },
  {
   "cell_type": "code",
   "execution_count": 13,
   "id": "bf67116b",
   "metadata": {},
   "outputs": [
    {
     "data": {
      "text/html": [
       "<table>\n",
       "<thead><tr><th scope=col>Date</th><th scope=col>MinTemp</th><th scope=col>MaxTemp</th><th scope=col>Rainfall</th><th scope=col>Sunshine</th><th scope=col>WindGustDir</th><th scope=col>WindGustSpeed</th><th scope=col>WindDir</th><th scope=col>WindSpeed</th><th scope=col>Humidity</th><th scope=col>Pressure</th><th scope=col>Cloud</th><th scope=col>Temp</th><th scope=col>RainToday</th><th scope=col>RainTomorrow</th></tr></thead>\n",
       "<tbody>\n",
       "\t<tr><td>2014-11-01</td><td> 8.0      </td><td>24.3      </td><td> 0.0      </td><td> 6.3      </td><td>NW        </td><td>30        </td><td>NW        </td><td>20        </td><td>29        </td><td>1015.0    </td><td>7         </td><td>23.6      </td><td>No        </td><td>Yes       </td></tr>\n",
       "\t<tr><td>2014-11-02</td><td>14.0      </td><td>26.9      </td><td> 3.6      </td><td> 9.7      </td><td>ENE       </td><td>39        </td><td>W         </td><td>17        </td><td>36        </td><td>1008.4    </td><td>3         </td><td>25.7      </td><td>Yes       </td><td>Yes       </td></tr>\n",
       "\t<tr><td>2014-11-03</td><td>13.7      </td><td>23.4      </td><td> 3.6      </td><td> 3.3      </td><td>NW        </td><td>85        </td><td>NNE       </td><td> 6        </td><td>69        </td><td>1007.2    </td><td>7         </td><td>20.2      </td><td>Yes       </td><td>Yes       </td></tr>\n",
       "\t<tr><td>2014-11-04</td><td>13.3      </td><td>15.5      </td><td>39.8      </td><td> 9.1      </td><td>NW        </td><td>54        </td><td>W         </td><td>24        </td><td>56        </td><td>1007.0    </td><td>7         </td><td>14.1      </td><td>Yes       </td><td>Yes       </td></tr>\n",
       "\t<tr><td>2014-11-05</td><td> 7.6      </td><td>16.1      </td><td> 2.8      </td><td>10.6      </td><td>SSE       </td><td>50        </td><td>ESE       </td><td>28        </td><td>49        </td><td>1018.5    </td><td>7         </td><td>15.4      </td><td>Yes       </td><td>No        </td></tr>\n",
       "\t<tr><td>2014-11-06</td><td> 6.2      </td><td>16.9      </td><td> 0.0      </td><td> 8.2      </td><td>SE        </td><td>44        </td><td>E         </td><td>24        </td><td>57        </td><td>1021.7    </td><td>5         </td><td>14.8      </td><td>No        </td><td>No        </td></tr>\n",
       "</tbody>\n",
       "</table>\n"
      ],
      "text/latex": [
       "\\begin{tabular}{r|lllllllllllllll}\n",
       " Date & MinTemp & MaxTemp & Rainfall & Sunshine & WindGustDir & WindGustSpeed & WindDir & WindSpeed & Humidity & Pressure & Cloud & Temp & RainToday & RainTomorrow\\\\\n",
       "\\hline\n",
       "\t 2014-11-01 &  8.0       & 24.3       &  0.0       &  6.3       & NW         & 30         & NW         & 20         & 29         & 1015.0     & 7          & 23.6       & No         & Yes       \\\\\n",
       "\t 2014-11-02 & 14.0       & 26.9       &  3.6       &  9.7       & ENE        & 39         & W          & 17         & 36         & 1008.4     & 3          & 25.7       & Yes        & Yes       \\\\\n",
       "\t 2014-11-03 & 13.7       & 23.4       &  3.6       &  3.3       & NW         & 85         & NNE        &  6         & 69         & 1007.2     & 7          & 20.2       & Yes        & Yes       \\\\\n",
       "\t 2014-11-04 & 13.3       & 15.5       & 39.8       &  9.1       & NW         & 54         & W          & 24         & 56         & 1007.0     & 7          & 14.1       & Yes        & Yes       \\\\\n",
       "\t 2014-11-05 &  7.6       & 16.1       &  2.8       & 10.6       & SSE        & 50         & ESE        & 28         & 49         & 1018.5     & 7          & 15.4       & Yes        & No        \\\\\n",
       "\t 2014-11-06 &  6.2       & 16.9       &  0.0       &  8.2       & SE         & 44         & E          & 24         & 57         & 1021.7     & 5          & 14.8       & No         & No        \\\\\n",
       "\\end{tabular}\n"
      ],
      "text/markdown": [
       "\n",
       "| Date | MinTemp | MaxTemp | Rainfall | Sunshine | WindGustDir | WindGustSpeed | WindDir | WindSpeed | Humidity | Pressure | Cloud | Temp | RainToday | RainTomorrow |\n",
       "|---|---|---|---|---|---|---|---|---|---|---|---|---|---|---|\n",
       "| 2014-11-01 |  8.0       | 24.3       |  0.0       |  6.3       | NW         | 30         | NW         | 20         | 29         | 1015.0     | 7          | 23.6       | No         | Yes        |\n",
       "| 2014-11-02 | 14.0       | 26.9       |  3.6       |  9.7       | ENE        | 39         | W          | 17         | 36         | 1008.4     | 3          | 25.7       | Yes        | Yes        |\n",
       "| 2014-11-03 | 13.7       | 23.4       |  3.6       |  3.3       | NW         | 85         | NNE        |  6         | 69         | 1007.2     | 7          | 20.2       | Yes        | Yes        |\n",
       "| 2014-11-04 | 13.3       | 15.5       | 39.8       |  9.1       | NW         | 54         | W          | 24         | 56         | 1007.0     | 7          | 14.1       | Yes        | Yes        |\n",
       "| 2014-11-05 |  7.6       | 16.1       |  2.8       | 10.6       | SSE        | 50         | ESE        | 28         | 49         | 1018.5     | 7          | 15.4       | Yes        | No         |\n",
       "| 2014-11-06 |  6.2       | 16.9       |  0.0       |  8.2       | SE         | 44         | E          | 24         | 57         | 1021.7     | 5          | 14.8       | No         | No         |\n",
       "\n"
      ],
      "text/plain": [
       "  Date       MinTemp MaxTemp Rainfall Sunshine WindGustDir WindGustSpeed\n",
       "1 2014-11-01  8.0    24.3     0.0      6.3     NW          30           \n",
       "2 2014-11-02 14.0    26.9     3.6      9.7     ENE         39           \n",
       "3 2014-11-03 13.7    23.4     3.6      3.3     NW          85           \n",
       "4 2014-11-04 13.3    15.5    39.8      9.1     NW          54           \n",
       "5 2014-11-05  7.6    16.1     2.8     10.6     SSE         50           \n",
       "6 2014-11-06  6.2    16.9     0.0      8.2     SE          44           \n",
       "  WindDir WindSpeed Humidity Pressure Cloud Temp RainToday RainTomorrow\n",
       "1 NW      20        29       1015.0   7     23.6 No        Yes         \n",
       "2 W       17        36       1008.4   3     25.7 Yes       Yes         \n",
       "3 NNE      6        69       1007.2   7     20.2 Yes       Yes         \n",
       "4 W       24        56       1007.0   7     14.1 Yes       Yes         \n",
       "5 ESE     28        49       1018.5   7     15.4 Yes       No          \n",
       "6 E       24        57       1021.7   5     14.8 No        No          "
      ]
     },
     "metadata": {},
     "output_type": "display_data"
    },
    {
     "name": "stdout",
     "output_type": "stream",
     "text": [
      "'data.frame':\t366 obs. of  15 variables:\n",
      " $ Date         : Factor w/ 366 levels \"2014-11-01\",\"2014-11-02\",..: 1 2 3 4 5 6 7 8 9 10 ...\n",
      " $ MinTemp      : num  8 14 13.7 13.3 7.6 6.2 6.1 8.3 8.8 8.4 ...\n",
      " $ MaxTemp      : num  24.3 26.9 23.4 15.5 16.1 16.9 18.2 17 19.5 22.8 ...\n",
      " $ Rainfall     : num  0 3.6 3.6 39.8 2.8 0 0.2 0 0 16.2 ...\n",
      " $ Sunshine     : num  6.3 9.7 3.3 9.1 10.6 8.2 8.4 4.6 4.1 7.7 ...\n",
      " $ WindGustDir  : Factor w/ 16 levels \"E\",\"ENE\",\"ESE\",..: 8 2 8 8 11 10 10 1 9 1 ...\n",
      " $ WindGustSpeed: int  30 39 85 54 50 44 43 41 48 31 ...\n",
      " $ WindDir      : Factor w/ 16 levels \"E\",\"ENE\",\"ESE\",..: 8 14 6 14 3 1 3 1 2 3 ...\n",
      " $ WindSpeed    : int  20 17 6 24 28 24 26 24 17 6 ...\n",
      " $ Humidity     : int  29 36 69 56 49 57 47 57 48 32 ...\n",
      " $ Pressure     : num  1015 1008 1007 1007 1018 ...\n",
      " $ Cloud        : int  7 3 7 7 7 5 6 7 7 1 ...\n",
      " $ Temp         : num  23.6 25.7 20.2 14.1 15.4 14.8 17.3 15.5 18.9 21.7 ...\n",
      " $ RainToday    : Factor w/ 2 levels \"No\",\"Yes\": 1 2 2 2 2 1 1 1 1 2 ...\n",
      " $ RainTomorrow : Factor w/ 2 levels \"No\",\"Yes\": 2 2 2 2 1 1 1 1 2 1 ...\n"
     ]
    },
    {
     "data": {
      "text/plain": [
       "         Date        MinTemp          MaxTemp         Rainfall     \n",
       " 2014-11-01:  1   Min.   :-5.300   Min.   : 7.60   Min.   : 0.000  \n",
       " 2014-11-02:  1   1st Qu.: 2.300   1st Qu.:15.03   1st Qu.: 0.000  \n",
       " 2014-11-03:  1   Median : 7.450   Median :19.65   Median : 0.000  \n",
       " 2014-11-04:  1   Mean   : 7.266   Mean   :20.55   Mean   : 1.428  \n",
       " 2014-11-05:  1   3rd Qu.:12.500   3rd Qu.:25.50   3rd Qu.: 0.200  \n",
       " 2014-11-06:  1   Max.   :20.900   Max.   :35.80   Max.   :39.800  \n",
       " (Other)   :360                                                    \n",
       "    Sunshine       WindGustDir  WindGustSpeed      WindDir      WindSpeed    \n",
       " Min.   : 0.000   NW     : 73   Min.   :13.00   NW     : 61   Min.   : 0.00  \n",
       " 1st Qu.: 5.950   NNW    : 44   1st Qu.:31.00   WNW    : 61   1st Qu.:11.00  \n",
       " Median : 8.600   E      : 37   Median :39.00   NNW    : 47   Median :17.00  \n",
       " Mean   : 7.909   WNW    : 35   Mean   :39.84   N      : 30   Mean   :17.99  \n",
       " 3rd Qu.:10.500   ENE    : 30   3rd Qu.:46.00   ESE    : 27   3rd Qu.:24.00  \n",
       " Max.   :13.600   (Other):144   Max.   :98.00   (Other):139   Max.   :52.00  \n",
       " NA's   :3        NA's   :  3   NA's   :2       NA's   :  1                  \n",
       "    Humidity        Pressure          Cloud            Temp       RainToday\n",
       " Min.   :13.00   Min.   : 996.8   Min.   :0.000   Min.   : 5.10   No :300  \n",
       " 1st Qu.:32.25   1st Qu.:1012.8   1st Qu.:1.000   1st Qu.:14.15   Yes: 66  \n",
       " Median :43.00   Median :1017.4   Median :4.000   Median :18.55            \n",
       " Mean   :44.52   Mean   :1016.8   Mean   :4.025   Mean   :19.23            \n",
       " 3rd Qu.:55.00   3rd Qu.:1021.5   3rd Qu.:7.000   3rd Qu.:24.00            \n",
       " Max.   :96.00   Max.   :1033.2   Max.   :8.000   Max.   :34.50            \n",
       "                                                                           \n",
       " RainTomorrow\n",
       " No :300     \n",
       " Yes: 66     \n",
       "             \n",
       "             \n",
       "             \n",
       "             \n",
       "             "
      ]
     },
     "metadata": {},
     "output_type": "display_data"
    }
   ],
   "source": [
    "####EDA\n",
    "head(df)\n",
    "str(df)\n",
    "summary(df)"
   ]
  },
  {
   "cell_type": "code",
   "execution_count": 14,
   "id": "7a5ebd06",
   "metadata": {},
   "outputs": [
    {
     "data": {
      "image/png": "[encoded data removed]",
      "text/plain": [
       "Plot with title \"\""
      ]
     },
     "metadata": {},
     "output_type": "display_data"
    }
   ],
   "source": [
    "df<-na.omit(df) #결측치 제거\n",
    "cordf<-df[sapply(df,is.numeric)]  #numeric컬럼만 cordf에 넣기\n",
    "M <- cor(cordf)\n",
    "corrplot(M, method=\"circle\")\n",
    "#Temp와minTemp, maxTemp 상관관계가 매우 크다. 다중공선성 가능성 큼\n",
    "\n",
    "######결측치 제거, 전처리\n",
    "df<-df[,-1] #날짜 제거\n",
    "df<-na.omit(df) #결측치 제거\n",
    "p<-preProcess(df,\"range\") #모든 숫자형변수 범위0~1 최소-최대 정규화\n",
    "df<-predict(p,df)"
   ]
  },
  {
   "cell_type": "code",
   "execution_count": 15,
   "id": "1417d51b",
   "metadata": {},
   "outputs": [],
   "source": [
    "#모델 생성후 다중 공선성 문제로 다시 전처리 부분\n",
    "df<-df[,-c(1,2,5,7)]\n"
   ]
  },
  {
   "cell_type": "code",
   "execution_count": 16,
   "id": "fdcc2dc0",
   "metadata": {},
   "outputs": [
    {
     "data": {
      "text/html": [
       "<dl class=dl-horizontal>\n",
       "\t<dt>Rainfall</dt>\n",
       "\t\t<dd>FALSE</dd>\n",
       "\t<dt>Sunshine</dt>\n",
       "\t\t<dd>FALSE</dd>\n",
       "\t<dt>WindGustSpeed</dt>\n",
       "\t\t<dd>FALSE</dd>\n",
       "\t<dt>WindSpeed</dt>\n",
       "\t\t<dd>FALSE</dd>\n",
       "\t<dt>Humidity</dt>\n",
       "\t\t<dd>FALSE</dd>\n",
       "\t<dt>Pressure</dt>\n",
       "\t\t<dd>FALSE</dd>\n",
       "\t<dt>Cloud</dt>\n",
       "\t\t<dd>FALSE</dd>\n",
       "\t<dt>Temp</dt>\n",
       "\t\t<dd>FALSE</dd>\n",
       "\t<dt>RainToday</dt>\n",
       "\t\t<dd>FALSE</dd>\n",
       "</dl>\n"
      ],
      "text/latex": [
       "\\begin{description*}\n",
       "\\item[Rainfall] FALSE\n",
       "\\item[Sunshine] FALSE\n",
       "\\item[WindGustSpeed] FALSE\n",
       "\\item[WindSpeed] FALSE\n",
       "\\item[Humidity] FALSE\n",
       "\\item[Pressure] FALSE\n",
       "\\item[Cloud] FALSE\n",
       "\\item[Temp] FALSE\n",
       "\\item[RainToday] FALSE\n",
       "\\end{description*}\n"
      ],
      "text/markdown": [
       "Rainfall\n",
       ":   FALSESunshine\n",
       ":   FALSEWindGustSpeed\n",
       ":   FALSEWindSpeed\n",
       ":   FALSEHumidity\n",
       ":   FALSEPressure\n",
       ":   FALSECloud\n",
       ":   FALSETemp\n",
       ":   FALSERainToday\n",
       ":   FALSE\n",
       "\n"
      ],
      "text/plain": [
       "     Rainfall      Sunshine WindGustSpeed     WindSpeed      Humidity \n",
       "        FALSE         FALSE         FALSE         FALSE         FALSE \n",
       "     Pressure         Cloud          Temp     RainToday \n",
       "        FALSE         FALSE         FALSE         FALSE "
      ]
     },
     "metadata": {},
     "output_type": "display_data"
    },
    {
     "data": {
      "text/plain": [
       "\n",
       "Call:\n",
       "glm(formula = RainTomorrow ~ ., family = \"binomial\", data = train)\n",
       "\n",
       "Deviance Residuals: \n",
       "    Min       1Q   Median       3Q      Max  \n",
       "-1.9774  -0.4656  -0.2279  -0.1173   2.4642  \n",
       "\n",
       "Coefficients:\n",
       "              Estimate Std. Error z value Pr(>|z|)   \n",
       "(Intercept)    -4.0734     2.5778  -1.580  0.11406   \n",
       "Rainfall       -3.3405     3.7113  -0.900  0.36808   \n",
       "Sunshine       -3.0154     1.4298  -2.109  0.03495 * \n",
       "WindGustSpeed   5.4564     2.1170   2.577  0.00995 **\n",
       "WindSpeed      -2.0006     1.8013  -1.111  0.26673   \n",
       "Humidity        5.2860     1.9534   2.706  0.00681 **\n",
       "Pressure       -3.5811     1.7172  -2.085  0.03703 * \n",
       "Cloud           1.0632     0.9382   1.133  0.25713   \n",
       "Temp            3.8686     1.5236   2.539  0.01111 * \n",
       "RainTodayYes    0.1337     0.7670   0.174  0.86161   \n",
       "---\n",
       "Signif. codes:  0 '***' 0.001 '**' 0.01 '*' 0.05 '.' 0.1 ' ' 1\n",
       "\n",
       "(Dispersion parameter for binomial family taken to be 1)\n",
       "\n",
       "    Null deviance: 236.09  on 250  degrees of freedom\n",
       "Residual deviance: 140.69  on 241  degrees of freedom\n",
       "AIC: 160.69\n",
       "\n",
       "Number of Fisher Scoring iterations: 6\n"
      ]
     },
     "metadata": {},
     "output_type": "display_data"
    }
   ],
   "source": [
    "####모델생성\n",
    "library(SyncRNG)\n",
    "v <- 1:nrow(df)\n",
    "s <- SyncRNG(seed=42)\n",
    "idx <- s$shuffle(v)[1:round(nrow(df)*0.7)]\n",
    "\n",
    "# idx[1:length(idx)]\n",
    "# train <- df[idx,]\n",
    "# test <- df[-idx,]\n",
    "# \n",
    "# idx<-createDataPartition(df$RainTomorrow,p=0.7,list=T)\n",
    "\n",
    "train<-df[idx,]\n",
    "test<-df[-idx,]\n",
    "m_glm<-glm(RainTomorrow~.,train,family = 'binomial')\n",
    "####Warning message:\n",
    "####glm.fit: 적합된 확률값들이 0 또는 1 입니다 \n",
    "### 원인 다중공선성\n",
    "### 다중공선성 변수 제거해야함\n",
    "sqrt(vif(m_glm))>3\n",
    "summary(m_glm)"
   ]
  },
  {
   "cell_type": "code",
   "execution_count": 17,
   "id": "33af28d3",
   "metadata": {},
   "outputs": [
    {
     "name": "stdout",
     "output_type": "stream",
     "text": [
      "Start:  AIC=160.69\n",
      "RainTomorrow ~ Rainfall + Sunshine + WindGustSpeed + WindSpeed + \n",
      "    Humidity + Pressure + Cloud + Temp + RainToday\n",
      "\n",
      "                Df Deviance    AIC\n",
      "- RainToday      1   140.72 158.72\n",
      "- Rainfall       1   141.46 159.46\n",
      "- WindSpeed      1   141.94 159.94\n",
      "- Cloud          1   141.99 159.99\n",
      "<none>               140.69 160.69\n",
      "- Sunshine       1   145.26 163.26\n",
      "- Pressure       1   145.41 163.41\n",
      "- Temp           1   147.62 165.62\n",
      "- WindGustSpeed  1   148.03 166.03\n",
      "- Humidity       1   148.99 166.99\n",
      "\n",
      "Step:  AIC=158.72\n",
      "RainTomorrow ~ Rainfall + Sunshine + WindGustSpeed + WindSpeed + \n",
      "    Humidity + Pressure + Cloud + Temp\n",
      "\n",
      "                Df Deviance    AIC\n",
      "- Rainfall       1   141.78 157.78\n",
      "- Cloud          1   141.99 157.99\n",
      "- WindSpeed      1   142.07 158.07\n",
      "<none>               140.72 158.72\n",
      "- Sunshine       1   145.31 161.31\n",
      "- Pressure       1   145.58 161.58\n",
      "- Temp           1   147.68 163.68\n",
      "- WindGustSpeed  1   148.30 164.30\n",
      "- Humidity       1   149.25 165.25\n",
      "\n",
      "Step:  AIC=157.78\n",
      "RainTomorrow ~ Sunshine + WindGustSpeed + WindSpeed + Humidity + \n",
      "    Pressure + Cloud + Temp\n",
      "\n",
      "                Df Deviance    AIC\n",
      "- WindSpeed      1   143.08 157.08\n",
      "- Cloud          1   143.41 157.41\n",
      "<none>               141.78 157.78\n",
      "- Pressure       1   145.82 159.82\n",
      "- Sunshine       1   146.48 160.48\n",
      "- Temp           1   148.46 162.46\n",
      "- Humidity       1   149.25 163.25\n",
      "- WindGustSpeed  1   149.42 163.42\n",
      "\n",
      "Step:  AIC=157.08\n",
      "RainTomorrow ~ Sunshine + WindGustSpeed + Humidity + Pressure + \n",
      "    Cloud + Temp\n",
      "\n",
      "                Df Deviance    AIC\n",
      "- Cloud          1   144.59 156.59\n",
      "<none>               143.08 157.08\n",
      "- Pressure       1   146.43 158.43\n",
      "- Sunshine       1   148.29 160.29\n",
      "- WindGustSpeed  1   149.55 161.55\n",
      "- Humidity       1   151.35 163.35\n",
      "- Temp           1   153.51 165.51\n",
      "\n",
      "Step:  AIC=156.59\n",
      "RainTomorrow ~ Sunshine + WindGustSpeed + Humidity + Pressure + \n",
      "    Temp\n",
      "\n",
      "                Df Deviance    AIC\n",
      "<none>               144.59 156.59\n",
      "- Pressure       1   148.20 158.20\n",
      "- WindGustSpeed  1   151.29 161.29\n",
      "- Humidity       1   153.24 163.24\n",
      "- Sunshine       1   156.40 166.40\n",
      "- Temp           1   156.43 166.43\n"
     ]
    },
    {
     "data": {
      "text/plain": [
       "\n",
       "Call:\n",
       "glm(formula = RainTomorrow ~ Sunshine + WindGustSpeed + Humidity + \n",
       "    Pressure + Temp, family = \"binomial\", data = train)\n",
       "\n",
       "Deviance Residuals: \n",
       "    Min       1Q   Median       3Q      Max  \n",
       "-2.1154  -0.4475  -0.2514  -0.1278   2.4817  \n",
       "\n",
       "Coefficients:\n",
       "              Estimate Std. Error z value Pr(>|z|)    \n",
       "(Intercept)     -3.731      2.324  -1.605 0.108395    \n",
       "Sunshine        -4.086      1.216  -3.360 0.000779 ***\n",
       "WindGustSpeed    4.210      1.673   2.517 0.011829 *  \n",
       "Humidity         4.909      1.791   2.741 0.006121 ** \n",
       "Pressure        -2.942      1.590  -1.850 0.064317 .  \n",
       "Temp             4.594      1.419   3.237 0.001206 ** \n",
       "---\n",
       "Signif. codes:  0 '***' 0.001 '**' 0.01 '*' 0.05 '.' 0.1 ' ' 1\n",
       "\n",
       "(Dispersion parameter for binomial family taken to be 1)\n",
       "\n",
       "    Null deviance: 236.09  on 250  degrees of freedom\n",
       "Residual deviance: 144.59  on 245  degrees of freedom\n",
       "AIC: 156.59\n",
       "\n",
       "Number of Fisher Scoring iterations: 6\n"
      ]
     },
     "metadata": {},
     "output_type": "display_data"
    }
   ],
   "source": [
    "######유의한 변수 선택\n",
    "#후진제거법으로 로지스틱회귀모형을 새롭게 정의\n",
    "m_glm=step(m_glm, direction = \"backward\")\n",
    "\n",
    "summary(m_glm)"
   ]
  },
  {
   "cell_type": "code",
   "execution_count": 18,
   "id": "099233d0",
   "metadata": {},
   "outputs": [],
   "source": [
    "#모델 재생성\n",
    "p_glm<-predict(m_glm,test,type='response')\n",
    "p.glm<-ifelse(p_glm>=0.5,'Yes','No')"
   ]
  },
  {
   "cell_type": "code",
   "execution_count": 20,
   "id": "762bc8b0",
   "metadata": {
    "scrolled": false
   },
   "outputs": [
    {
     "data": {
      "text/plain": [
       "Confusion Matrix and Statistics\n",
       "\n",
       "          Reference\n",
       "Prediction No Yes\n",
       "       No  83   8\n",
       "       Yes  6  11\n",
       "                                          \n",
       "               Accuracy : 0.8704          \n",
       "                 95% CI : (0.7921, 0.9273)\n",
       "    No Information Rate : 0.8241          \n",
       "    P-Value [Acc > NIR] : 0.1256          \n",
       "                                          \n",
       "                  Kappa : 0.5336          \n",
       "                                          \n",
       " Mcnemar's Test P-Value : 0.7893          \n",
       "                                          \n",
       "            Sensitivity : 0.9326          \n",
       "            Specificity : 0.5789          \n",
       "         Pos Pred Value : 0.9121          \n",
       "         Neg Pred Value : 0.6471          \n",
       "             Prevalence : 0.8241          \n",
       "         Detection Rate : 0.7685          \n",
       "   Detection Prevalence : 0.8426          \n",
       "      Balanced Accuracy : 0.7558          \n",
       "                                          \n",
       "       'Positive' Class : No              \n",
       "                                          "
      ]
     },
     "metadata": {},
     "output_type": "display_data"
    },
    {
     "data": {
      "text/html": [
       "<dl class=dl-horizontal>\n",
       "\t<dt>Sensitivity</dt>\n",
       "\t\t<dd>0.932584269662921</dd>\n",
       "\t<dt>Specificity</dt>\n",
       "\t\t<dd>0.578947368421053</dd>\n",
       "\t<dt>Pos Pred Value</dt>\n",
       "\t\t<dd>0.912087912087912</dd>\n",
       "\t<dt>Neg Pred Value</dt>\n",
       "\t\t<dd>0.647058823529412</dd>\n",
       "\t<dt>Precision</dt>\n",
       "\t\t<dd>0.912087912087912</dd>\n",
       "\t<dt>Recall</dt>\n",
       "\t\t<dd>0.932584269662921</dd>\n",
       "\t<dt>F1</dt>\n",
       "\t\t<dd>0.922222222222222</dd>\n",
       "\t<dt>Prevalence</dt>\n",
       "\t\t<dd>0.824074074074074</dd>\n",
       "\t<dt>Detection Rate</dt>\n",
       "\t\t<dd>0.768518518518518</dd>\n",
       "\t<dt>Detection Prevalence</dt>\n",
       "\t\t<dd>0.842592592592593</dd>\n",
       "\t<dt>Balanced Accuracy</dt>\n",
       "\t\t<dd>0.755765819041987</dd>\n",
       "</dl>\n"
      ],
      "text/latex": [
       "\\begin{description*}\n",
       "\\item[Sensitivity] 0.932584269662921\n",
       "\\item[Specificity] 0.578947368421053\n",
       "\\item[Pos Pred Value] 0.912087912087912\n",
       "\\item[Neg Pred Value] 0.647058823529412\n",
       "\\item[Precision] 0.912087912087912\n",
       "\\item[Recall] 0.932584269662921\n",
       "\\item[F1] 0.922222222222222\n",
       "\\item[Prevalence] 0.824074074074074\n",
       "\\item[Detection Rate] 0.768518518518518\n",
       "\\item[Detection Prevalence] 0.842592592592593\n",
       "\\item[Balanced Accuracy] 0.755765819041987\n",
       "\\end{description*}\n"
      ],
      "text/markdown": [
       "Sensitivity\n",
       ":   0.932584269662921Specificity\n",
       ":   0.578947368421053Pos Pred Value\n",
       ":   0.912087912087912Neg Pred Value\n",
       ":   0.647058823529412Precision\n",
       ":   0.912087912087912Recall\n",
       ":   0.932584269662921F1\n",
       ":   0.922222222222222Prevalence\n",
       ":   0.824074074074074Detection Rate\n",
       ":   0.768518518518518Detection Prevalence\n",
       ":   0.842592592592593Balanced Accuracy\n",
       ":   0.755765819041987\n",
       "\n"
      ],
      "text/plain": [
       "         Sensitivity          Specificity       Pos Pred Value \n",
       "           0.9325843            0.5789474            0.9120879 \n",
       "      Neg Pred Value            Precision               Recall \n",
       "           0.6470588            0.9120879            0.9325843 \n",
       "                  F1           Prevalence       Detection Rate \n",
       "           0.9222222            0.8240741            0.7685185 \n",
       "Detection Prevalence    Balanced Accuracy \n",
       "           0.8425926            0.7557658 "
      ]
     },
     "metadata": {},
     "output_type": "display_data"
    },
    {
     "data": {
      "text/html": [
       "<dl class=dl-horizontal>\n",
       "\t<dt>Accuracy</dt>\n",
       "\t\t<dd>0.87037037037037</dd>\n",
       "\t<dt>Kappa</dt>\n",
       "\t\t<dd>0.533621221468229</dd>\n",
       "\t<dt>AccuracyLower</dt>\n",
       "\t\t<dd>0.792076203488322</dd>\n",
       "\t<dt>AccuracyUpper</dt>\n",
       "\t\t<dd>0.927281395796997</dd>\n",
       "\t<dt>AccuracyNull</dt>\n",
       "\t\t<dd>0.824074074074074</dd>\n",
       "\t<dt>AccuracyPValue</dt>\n",
       "\t\t<dd>0.125583312983332</dd>\n",
       "\t<dt>McnemarPValue</dt>\n",
       "\t\t<dd>0.789268026134281</dd>\n",
       "</dl>\n"
      ],
      "text/latex": [
       "\\begin{description*}\n",
       "\\item[Accuracy] 0.87037037037037\n",
       "\\item[Kappa] 0.533621221468229\n",
       "\\item[AccuracyLower] 0.792076203488322\n",
       "\\item[AccuracyUpper] 0.927281395796997\n",
       "\\item[AccuracyNull] 0.824074074074074\n",
       "\\item[AccuracyPValue] 0.125583312983332\n",
       "\\item[McnemarPValue] 0.789268026134281\n",
       "\\end{description*}\n"
      ],
      "text/markdown": [
       "Accuracy\n",
       ":   0.87037037037037Kappa\n",
       ":   0.533621221468229AccuracyLower\n",
       ":   0.792076203488322AccuracyUpper\n",
       ":   0.927281395796997AccuracyNull\n",
       ":   0.824074074074074AccuracyPValue\n",
       ":   0.125583312983332McnemarPValue\n",
       ":   0.789268026134281\n",
       "\n"
      ],
      "text/plain": [
       "      Accuracy          Kappa  AccuracyLower  AccuracyUpper   AccuracyNull \n",
       "     0.8703704      0.5336212      0.7920762      0.9272814      0.8240741 \n",
       "AccuracyPValue  McnemarPValue \n",
       "     0.1255833      0.7892680 "
      ]
     },
     "metadata": {},
     "output_type": "display_data"
    },
    {
     "data": {
      "text/html": [
       "0.779573367808662"
      ],
      "text/latex": [
       "0.779573367808662"
      ],
      "text/markdown": [
       "0.779573367808662"
      ],
      "text/plain": [
       "[1] 0.7795734"
      ]
     },
     "metadata": {},
     "output_type": "display_data"
    }
   ],
   "source": [
    "#################################모델평가###########################\n",
    "# table(test$RainTomorrow)\n",
    "# table(p.glm)\n",
    "\n",
    "caret::confusionMatrix(as.factor(p.glm),test$RainTomorrow)\n",
    "caret::confusionMatrix(as.factor(p.glm),test$RainTomorrow)$byClass\n",
    "caret::confusionMatrix(as.factor(p.glm),test$RainTomorrow)$overall\n",
    "auc(as.factor(p.glm),test$RainTomorrow)"
   ]
  },
  {
   "cell_type": "code",
   "execution_count": 21,
   "id": "909ff5de",
   "metadata": {
    "scrolled": true
   },
   "outputs": [
    {
     "name": "stderr",
     "output_type": "stream",
     "text": [
      "Warning message:\n",
      "\"package 'ROCR' was built under R version 3.6.3\""
     ]
    },
    {
     "data": {
      "text/html": [
       "<table>\n",
       "<thead><tr><th></th><th scope=col>OR</th><th scope=col>2.5%</th><th scope=col>97.5%</th><th scope=col>p</th></tr></thead>\n",
       "<tbody>\n",
       "\t<tr><th scope=row>(Intercept)</th><td>  0.02 </td><td>0.00   </td><td>   2.00</td><td>0.108  </td></tr>\n",
       "\t<tr><th scope=row>Sunshine</th><td>  0.02 </td><td>0.00   </td><td>   0.18</td><td>0.001  </td></tr>\n",
       "\t<tr><th scope=row>WindGustSpeed</th><td> 67.38 </td><td>2.74   </td><td>2056.76</td><td>0.012  </td></tr>\n",
       "\t<tr><th scope=row>Humidity</th><td>135.51 </td><td>4.82   </td><td>5646.67</td><td>0.006  </td></tr>\n",
       "\t<tr><th scope=row>Pressure</th><td>  0.05 </td><td>0.00   </td><td>   1.10</td><td>0.064  </td></tr>\n",
       "\t<tr><th scope=row>Temp</th><td> 98.88 </td><td>6.83   </td><td>1852.63</td><td>0.001  </td></tr>\n",
       "</tbody>\n",
       "</table>\n"
      ],
      "text/latex": [
       "\\begin{tabular}{r|llll}\n",
       "  & OR & 2.5\\% & 97.5\\% & p\\\\\n",
       "\\hline\n",
       "\t(Intercept) &   0.02  & 0.00    &    2.00 & 0.108  \\\\\n",
       "\tSunshine &   0.02  & 0.00    &    0.18 & 0.001  \\\\\n",
       "\tWindGustSpeed &  67.38  & 2.74    & 2056.76 & 0.012  \\\\\n",
       "\tHumidity & 135.51  & 4.82    & 5646.67 & 0.006  \\\\\n",
       "\tPressure &   0.05  & 0.00    &    1.10 & 0.064  \\\\\n",
       "\tTemp &  98.88  & 6.83    & 1852.63 & 0.001  \\\\\n",
       "\\end{tabular}\n"
      ],
      "text/markdown": [
       "\n",
       "| <!--/--> | OR | 2.5% | 97.5% | p |\n",
       "|---|---|---|---|---|\n",
       "| (Intercept) |   0.02  | 0.00    |    2.00 | 0.108   |\n",
       "| Sunshine |   0.02  | 0.00    |    0.18 | 0.001   |\n",
       "| WindGustSpeed |  67.38  | 2.74    | 2056.76 | 0.012   |\n",
       "| Humidity | 135.51  | 4.82    | 5646.67 | 0.006   |\n",
       "| Pressure |   0.05  | 0.00    |    1.10 | 0.064   |\n",
       "| Temp |  98.88  | 6.83    | 1852.63 | 0.001   |\n",
       "\n"
      ],
      "text/plain": [
       "              OR     2.5% 97.5%   p    \n",
       "(Intercept)     0.02 0.00    2.00 0.108\n",
       "Sunshine        0.02 0.00    0.18 0.001\n",
       "WindGustSpeed  67.38 2.74 2056.76 0.012\n",
       "Humidity      135.51 4.82 5646.67 0.006\n",
       "Pressure        0.05 0.00    1.10 0.064\n",
       "Temp           98.88 6.83 1852.63 0.001"
      ]
     },
     "metadata": {},
     "output_type": "display_data"
    },
    {
     "data": {
      "image/png": "[encoded data removed]",
      "text/plain": [
       "plot without title"
      ]
     },
     "metadata": {},
     "output_type": "display_data"
    }
   ],
   "source": [
    "####################시각화##################################\n",
    "#ROC 곡선 그리기\n",
    "library(ROCR)\n",
    "ROCR_p_glm <- prediction(p_glm,list(test$RainTomorrow))\n",
    "ROCR_pf_glm <- performance(ROCR_p_glm,'tpr','fpr')\n",
    "plot(ROCR_pf_glm,colorize=TRUE,print.cutoffs.at=seq(0.1,by=0.1))\n",
    "# TPR을 높이고 FPR을 줄이는 임계값을 찾아 선택할 수 있다.\n",
    "\n",
    "#독립변수들의 Odds ratio 구하기\n",
    "ORtable=function(x,digits=2){\n",
    "  suppressMessages(a<-confint(x))\n",
    "  result=data.frame(exp(coef(x)),exp(a))\n",
    "  result=round(result,digits)\n",
    "  result=cbind(result,round(summary(x)$coefficient[,4],3))   #Pr(>|z|)\n",
    "  colnames(result)=c(\"OR\",\"2.5%\",\"97.5%\",\"p\")\n",
    "  result\n",
    "}\n",
    "ORtable(m_glm)"
   ]
  },
  {
   "cell_type": "code",
   "execution_count": null,
   "id": "1de82b7d",
   "metadata": {},
   "outputs": [],
   "source": []
  }
 ],
 "metadata": {
  "kernelspec": {
   "display_name": "R",
   "language": "R",
   "name": "ir"
  },
  "language_info": {
   "codemirror_mode": "r",
   "file_extension": ".r",
   "mimetype": "text/x-r-source",
   "name": "R",
   "pygments_lexer": "r",
   "version": "3.6.1"
  }
 },
 "nbformat": 4,
 "nbformat_minor": 5
}
