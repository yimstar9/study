{
 "cells": [
  {
   "cell_type": "code",
   "execution_count": 5,
   "id": "326f673d",
   "metadata": {},
   "outputs": [
    {
     "data": {
      "text/plain": [
       "\n",
       " No Yes \n",
       " 89  19 "
      ]
     },
     "metadata": {},
     "output_type": "display_data"
    },
    {
     "ename": "ERROR",
     "evalue": "Error in table(p.glm): 객체 'p.glm'를 찾을 수 없습니다\n",
     "output_type": "error",
     "traceback": [
      "Error in table(p.glm): 객체 'p.glm'를 찾을 수 없습니다\nTraceback:\n",
      "1. table(p.glm)"
     ]
    }
   ],
   "source": [
    "#2번\n",
    "# 비 유무 예측 주제로 R을 이용한 로지스틱 회귀분석을 실시하고, 인공신경망을 \n",
    "# 이용한 로지스틱 회귀분석을 python으로 실행하여 결과를 비교한다.\n",
    "library(car)\n",
    "library(caret)\n",
    "library(ModelMetrics)\n",
    "library(corrplot)\n",
    "df<-read.csv(\"E:/GoogleDrive/절대삭제노노/DATASET/dataset4/weather.csv\")\n",
    "\n",
    "#EDA\n",
    "head(df)\n",
    "str(df)\n",
    "summary(df)\n",
    "\n",
    "df<-na.omit(df) #결측치 제거\n",
    "cordf<-df[sapply(df,is.numeric)]  #numeric컬럼만 cordf에 넣기\n",
    "M <- cor(cordf)\n",
    "corrplot(M, method=\"circle\")\n",
    "#Temp와minTemp, maxTemp 상관관계가 매우 크다. 다중공선성 가능성 큼\n",
    "\n",
    "#결측치 제거, 전처리\n",
    "df<-df[,-1] #날짜 제거\n",
    "df<-na.omit(df) #결측치 제거\n",
    "p<-preProcess(df,\"range\") #모든 숫자형변수 범위0~1 최소-최대 정규화\n",
    "df<-predict(p,df)\n",
    "\n",
    "#모델 생성후 다중 공선성 문제로 다시 전처리 부분\n",
    "df<-df[,-c(1,2,5,7)]\n",
    "##전처리 후 다중공선성 \n",
    "# Rainfall      Sunshine WindGustSpeed     WindSpeed      Humidity      Pressure         Cloud \n",
    "# FALSE         FALSE         FALSE         FALSE         FALSE         FALSE         FALSE \n",
    "# Temp     RainToday \n",
    "# FALSE         FALSE \n",
    "\n",
    "\n",
    "#모델생성\n",
    "v <- 1:nrow(df)\n",
    "s <- SyncRNG(seed=42)\n",
    "idx <- s$shuffle(v)[1:round(nrow(df)*0.7)]\n",
    "\n",
    "train<-df[idx,]\n",
    "test<-df[-idx,]\n",
    "m_glm<-glm(RainTomorrow~.,train,family = 'binomial')\n",
    "# Warning message:\n",
    "# glm.fit: 적합된 확률값들이 0 또는 1 입니다 \n",
    "# 원인 다중공선성\n",
    "# 다중공선성 변수 제거해야함\n",
    "vif(m_glm)\n",
    "summary(m_glm)\n",
    "\n",
    "\n",
    "##유의한 변수 선택\n",
    "#후진제거법으로 로지스틱회귀모형을 새롭게 정의\n",
    "m_glm=step(m_glm, direction = \"backward\")\n",
    "summary(m_glm)\n",
    "\n",
    "p_glm<-predict(m_glm,test,type='response')\n",
    "p.glm<-ifelse(p_glm>=0.5,'Yes','No')\n",
    "\n",
    "#모델평가\n",
    "table(test$RainTomorrow)\n",
    "table(p.glm)\n",
    "\n",
    "caret::confusionMatrix(as.factor(p.glm),test$RainTomorrow)\n",
    "caret::confusionMatrix(as.factor(p.glm),test$RainTomorrow)$byClass\n",
    "caret::confusionMatrix(as.factor(p.glm),test$RainTomorrow)$overall\n",
    "auc(as.factor(p.glm),test$RainTomorrow)\n"
   ]
  }
 ],
 "metadata": {
  "kernelspec": {
   "display_name": "R",
   "language": "R",
   "name": "ir"
  },
  "language_info": {
   "codemirror_mode": "r",
   "file_extension": ".r",
   "mimetype": "text/x-r-source",
   "name": "R",
   "pygments_lexer": "r",
   "version": "3.6.1"
  }
 },
 "nbformat": 4,
 "nbformat_minor": 5
}
