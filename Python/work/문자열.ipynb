{
 "cells": [
  {
   "cell_type": "raw",
   "id": "54cdcbad",
   "metadata": {},
   "source": [
    "파이썬은 문자열끼리 덧셈, 곱셈이 가능하다.\n",
    "다른 언어에서는 상상도 못할 일이다. "
   ]
  },
  {
   "cell_type": "code",
   "execution_count": 3,
   "id": "6be9846b",
   "metadata": {},
   "outputs": [
    {
     "name": "stdout",
     "output_type": "stream",
     "text": [
      "helloworld\n",
      "hellohellohellohellohello\n"
     ]
    }
   ],
   "source": [
    "a='hello'\n",
    "b='world'\n",
    "print(a+b)\n",
    "print(a*5)"
   ]
  },
  {
   "cell_type": "raw",
   "id": "b0d61371",
   "metadata": {},
   "source": [
    "문자열 인덱싱 \n",
    "자동으로 배열에 추가되서 각각 문자열을 처리하기 편하다"
   ]
  },
  {
   "cell_type": "code",
   "execution_count": 5,
   "id": "371e09e0",
   "metadata": {},
   "outputs": [
    {
     "name": "stdout",
     "output_type": "stream",
     "text": [
      "l\n",
      "d\n",
      "hel\n",
      "o world\n"
     ]
    }
   ],
   "source": [
    "a='hello world'\n",
    "len(a)\n",
    "print(a[3]) #네번째 문자\n",
    "print(a[-1]) #마지막 문자\n",
    "print(a[0:3]) #0번째부터 2번째까지 0<= a <3 \n",
    "print(a[4:]) #4번째부터 끝까지"
   ]
  },
  {
   "cell_type": "raw",
   "id": "644832a2",
   "metadata": {},
   "source": [
    "문자열 포매팅\n",
    "2개 이상 포매팅할땐 %(a,b,c)"
   ]
  },
  {
   "cell_type": "code",
   "execution_count": 8,
   "id": "202fc4e5",
   "metadata": {},
   "outputs": [
    {
     "name": "stdout",
     "output_type": "stream",
     "text": [
      "오늘 오전 온도는 26도, 오후 온도는 33도, 습도는 80% 입니다.\n",
      " 오늘 날씨는 덥습니다.\n"
     ]
    }
   ],
   "source": [
    "temp=33\n",
    "b='오늘 오전 온도는 %d도, 오후 온도는 %d도, 습도는 %d%% 입니다.\\n' %(26,temp,80)\n",
    "c=\"오늘 날씨는 %s\" %\"덥습니다.\"\n",
    "print(b,c)"
   ]
  },
  {
   "cell_type": "raw",
   "id": "3a8d5c86",
   "metadata": {},
   "source": [
    "%-10s 좌측정렬 %10s 우측정렬"
   ]
  },
  {
   "cell_type": "code",
   "execution_count": 13,
   "id": "75f8807d",
   "metadata": {},
   "outputs": [
    {
     "name": "stdout",
     "output_type": "stream",
     "text": [
      "hi        파이썬\n",
      "         hi\n",
      "      3.142\n",
      " %.4f\n"
     ]
    }
   ],
   "source": [
    "d=\"%-10s파이썬\\n\"%\"hi\" #전체길이가 10칸 나머지공백 좌측정렬\n",
    "e=\"%10s\\n\" %\"hi\" #전체길이가 10칸 나머지 공백넣고 우측정렬\n",
    "f=\"%10.3f\\n\"%3.141592  #전체길이가 10칸 소수점 3자리 우측정렬\n",
    "g=\"%.4f\" #3.141592\n",
    "print(d,e,f,g)"
   ]
  },
  {
   "cell_type": "raw",
   "id": "f1d870ef",
   "metadata": {},
   "source": [
    "포매팅안에서 g*3같은 수식도 가능하다.\n",
    ":< 좌측정렬\n",
    ":> 우측정렬\n",
    ":^ 가운데정렬\n",
    ":^10 총 10자리, 가운데정렬\n",
    "{*:@^10} 10자리중 *은 가운데정렬, 공백은 @로 채우기"
   ]
  },
  {
   "cell_type": "code",
   "execution_count": 16,
   "id": "482c865b",
   "metadata": {},
   "outputs": [
    {
     "name": "stdout",
     "output_type": "stream",
     "text": [
      "         *\n",
      "*         \n",
      "   ***    \n",
      "@@@@*@@@@@\n"
     ]
    }
   ],
   "source": [
    "g=\"*\"\n",
    "r=f'{g:>10}'\n",
    "l=f'{g:<10}'\n",
    "c=f'{g*3:^10}'\n",
    "a=f'{g:@^10}'\n",
    "print(r)\n",
    "print(l)\n",
    "print(c)\n",
    "print(a)"
   ]
  },
  {
   "cell_type": "raw",
   "id": "1df223e6",
   "metadata": {},
   "source": [
    "별 삼각형도 이런식으로 간단하게 구현가능하다"
   ]
  },
  {
   "cell_type": "code",
   "execution_count": 19,
   "id": "6f574a44",
   "metadata": {},
   "outputs": [
    {
     "name": "stdout",
     "output_type": "stream",
     "text": [
      "    *    \n",
      "   ***   \n",
      "  *****  \n",
      " ******* \n",
      "*********\n"
     ]
    }
   ],
   "source": [
    "for i in range(1,6):\n",
    "    print(f'{g*(2*i-1):^9}')"
   ]
  }
 ],
 "metadata": {
  "kernelspec": {
   "display_name": "Python 3 (ipykernel)",
   "language": "python",
   "name": "python3"
  },
  "language_info": {
   "codemirror_mode": {
    "name": "ipython",
    "version": 3
   },
   "file_extension": ".py",
   "mimetype": "text/x-python",
   "name": "python",
   "nbconvert_exporter": "python",
   "pygments_lexer": "ipython3",
   "version": "3.9.13"
  }
 },
 "nbformat": 4,
 "nbformat_minor": 5
}
