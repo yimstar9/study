{
 "cells": [
  {
   "cell_type": "code",
   "execution_count": 1,
   "id": "788923d4",
   "metadata": {},
   "outputs": [
    {
     "data": {
      "text/plain": [
       "9.899999999999999"
      ]
     },
     "execution_count": 1,
     "metadata": {},
     "output_type": "execute_result"
    }
   ],
   "source": [
    "3*3.3"
   ]
  },
  {
   "cell_type": "markdown",
   "id": "50c0d2b6",
   "metadata": {},
   "source": [
    "정수형x실수형 값이 이상하게 나온다.\n",
    "컴퓨터가 실수를 표현할때 오차가 발생하기 때문인데\n",
    "decimal, fraction 모듈을 써서 정확히 계산해주면 된다."
   ]
  },
  {
   "cell_type": "code",
   "execution_count": 2,
   "id": "23555962",
   "metadata": {},
   "outputs": [
    {
     "data": {
      "text/plain": [
       "False"
      ]
     },
     "execution_count": 2,
     "metadata": {},
     "output_type": "execute_result"
    }
   ],
   "source": [
    "0.1 + 0.2 == 0.3"
   ]
  },
  {
   "cell_type": "markdown",
   "id": "2ffabea4",
   "metadata": {},
   "source": [
    "또한 두 실수가 같은지 확인할때도 이렇게 하면 안된다."
   ]
  },
  {
   "cell_type": "code",
   "execution_count": 3,
   "id": "9d1a6100",
   "metadata": {},
   "outputs": [
    {
     "data": {
      "text/plain": [
       "0.30000000000000004"
      ]
     },
     "execution_count": 3,
     "metadata": {},
     "output_type": "execute_result"
    }
   ],
   "source": [
    "0.1+0.2"
   ]
  },
  {
   "cell_type": "markdown",
   "id": "e6984389",
   "metadata": {},
   "source": [
    "근사값으로 표현하면서 발생함. 부동소수점 반올림 오차라고 함.\n",
    "두 값이 차이가 sys.float_info.epsilon 보다 작거나 같으면 두 값은 같다고 판단.\n",
    "sys.float_info.epsilon에 저장된 값을 머신 입실론(machine epsilon)이라고 함"
   ]
  },
  {
   "cell_type": "markdown",
   "id": "2d225891",
   "metadata": {},
   "source": [
    "단순히 두 값이 같은지 판단할때는 math.isclose 함수를 쓰면 된다."
   ]
  },
  {
   "cell_type": "code",
   "execution_count": 4,
   "id": "85416fc4",
   "metadata": {},
   "outputs": [
    {
     "data": {
      "text/plain": [
       "True"
      ]
     },
     "execution_count": 4,
     "metadata": {},
     "output_type": "execute_result"
    }
   ],
   "source": [
    "import math\n",
    "math.isclose(0.1+0.2,0.3)"
   ]
  }
 ],
 "metadata": {
  "kernelspec": {
   "display_name": "Python 3 (ipykernel)",
   "language": "python",
   "name": "python3"
  },
  "language_info": {
   "codemirror_mode": {
    "name": "ipython",
    "version": 3
   },
   "file_extension": ".py",
   "mimetype": "text/x-python",
   "name": "python",
   "nbconvert_exporter": "python",
   "pygments_lexer": "ipython3",
   "version": "3.9.13"
  }
 },
 "nbformat": 4,
 "nbformat_minor": 5
}
