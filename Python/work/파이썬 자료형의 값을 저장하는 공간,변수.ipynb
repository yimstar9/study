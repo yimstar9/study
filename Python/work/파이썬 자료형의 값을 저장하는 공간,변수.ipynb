{
 "cells": [
  {
   "cell_type": "markdown",
   "id": "ca1b95c5",
   "metadata": {},
   "source": [
    "파이썬에서는 같다 라고 선언하면 주소값 까지 같다고 본다. \n",
    "\n",
    "그래서 추후에 한쪽 변수를 바꿔줘도 다른 한쪽 변수가 변하는 상황이 생긴다."
   ]
  },
  {
   "cell_type": "code",
   "execution_count": 4,
   "id": "3f3e4d8b",
   "metadata": {},
   "outputs": [
    {
     "name": "stdout",
     "output_type": "stream",
     "text": [
      "1906865579072\n",
      "1906865579072\n"
     ]
    }
   ],
   "source": [
    "a = [1,2,3]\n",
    "b = a\n",
    "\n",
    "print(id(a))\n",
    "print(id(b))"
   ]
  },
  {
   "cell_type": "markdown",
   "id": "6052c11d",
   "metadata": {},
   "source": [
    "a[1]을 4로 바꿔줫더니 b도 바뀌는 상황이 발생한다."
   ]
  },
  {
   "cell_type": "code",
   "execution_count": 5,
   "id": "5cc1567c",
   "metadata": {},
   "outputs": [
    {
     "name": "stdout",
     "output_type": "stream",
     "text": [
      "[1, 4, 3]\n",
      "[1, 4, 3]\n"
     ]
    }
   ],
   "source": [
    "a[1] = 4 \n",
    "print(a)\n",
    "print(b)\n"
   ]
  },
  {
   "cell_type": "markdown",
   "id": "f9d811e4",
   "metadata": {},
   "source": [
    "위와 같은 상황을 방지하기 위해서"
   ]
  },
  {
   "cell_type": "markdown",
   "id": "b1aa4aa9",
   "metadata": {},
   "source": [
    "1. [:] 이용"
   ]
  },
  {
   "cell_type": "code",
   "execution_count": 6,
   "id": "5a4f8c64",
   "metadata": {},
   "outputs": [
    {
     "name": "stdout",
     "output_type": "stream",
     "text": [
      "[1, 4, 3]\n",
      "[1, 2, 3]\n"
     ]
    }
   ],
   "source": [
    "c=[1,2,3]\n",
    "d=c[:]\n",
    "\n",
    "c[1]=4\n",
    "print(c)\n",
    "print(d)"
   ]
  },
  {
   "cell_type": "markdown",
   "id": "64c41d56",
   "metadata": {},
   "source": [
    "2. copy모듈 이용"
   ]
  },
  {
   "cell_type": "code",
   "execution_count": 7,
   "id": "c442436c",
   "metadata": {},
   "outputs": [
    {
     "name": "stdout",
     "output_type": "stream",
     "text": [
      "[1, 4, 3]\n",
      "[1, 2, 3]\n"
     ]
    }
   ],
   "source": [
    "from copy import copy\n",
    "e=[1,2,3]\n",
    "f=copy(e)\n",
    "\n",
    "e[1]=4\n",
    "print(e)\n",
    "print(f)"
   ]
  },
  {
   "cell_type": "markdown",
   "id": "9ba12a25",
   "metadata": {},
   "source": [
    "또한 두 변수의 값을 바꾸는 경우 파이썬은 아주 간단하게 바꿀 수 있다."
   ]
  },
  {
   "cell_type": "code",
   "execution_count": 9,
   "id": "3063ed89",
   "metadata": {},
   "outputs": [
    {
     "name": "stdout",
     "output_type": "stream",
     "text": [
      "a= 5 b= 3\n"
     ]
    }
   ],
   "source": [
    "a = 3 \n",
    "b = 5\n",
    "\n",
    "a, b = b, a\n",
    "print(\"a=\",a,\"b=\",b)"
   ]
  }
 ],
 "metadata": {
  "kernelspec": {
   "display_name": "Python 3 (ipykernel)",
   "language": "python",
   "name": "python3"
  },
  "language_info": {
   "codemirror_mode": {
    "name": "ipython",
    "version": 3
   },
   "file_extension": ".py",
   "mimetype": "text/x-python",
   "name": "python",
   "nbconvert_exporter": "python",
   "pygments_lexer": "ipython3",
   "version": "3.9.13"
  }
 },
 "nbformat": 4,
 "nbformat_minor": 5
}
